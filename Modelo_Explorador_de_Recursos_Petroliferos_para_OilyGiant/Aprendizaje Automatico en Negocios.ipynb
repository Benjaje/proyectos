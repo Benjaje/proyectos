{
 "cells": [
  {
   "cell_type": "markdown",
   "metadata": {},
   "source": [
    "# Introducción "
   ]
  },
  {
   "cell_type": "markdown",
   "metadata": {},
   "source": [
    "Revisaremos tres regiones distintas y determinaremos la mejor region para abrir 200 nuevos pozos petroleros teniendo en cuenta un presupuesto de 100 millones de dolares, una ganancia por unidad de 4,500 dolares y manténer solo las regiones con riesgo de pérdidas inferiores al 2.5%. Para esto llevaremos a cabo las siguientes etapas:\n",
    "\n",
    "**Etapas**\n",
    "1. Importaremos las librerias y prepararemos los datos.\n",
    "   * 1.1 Importaremos las librerias.\n",
    "   * 1.2 Leeremos y prepararemos los datos.\n",
    "2. Entrenaremos y probaremos el modelo para cada region\n",
    "3. Preparacion para el Calculo de Ganancias\n",
    "4. Crearemos una función para calcular la ganancia de un conjunto de pozos \n",
    "5. Calcularemos los riesgos y ganancias para cada región\n",
    "    * 5.1 Region 1\n",
    "    * 5.2 Region 2\n",
    "    * 5.3 Region 3\n",
    "6. Conclusiones"
   ]
  },
  {
   "cell_type": "markdown",
   "metadata": {},
   "source": [
    "# 1. Importar las librerias, descargamos los datos y los preparamos"
   ]
  },
  {
   "cell_type": "markdown",
   "metadata": {},
   "source": [
    "**1.1 Importación de Librerias**"
   ]
  },
  {
   "cell_type": "code",
   "execution_count": 1,
   "metadata": {},
   "outputs": [],
   "source": [
    "import pandas as pd\n",
    "import numpy as np\n",
    "from sklearn.model_selection import train_test_split\n",
    "from sklearn.linear_model import LinearRegression\n",
    "from sklearn.metrics import mean_squared_error\n",
    "import matplotlib.pyplot as plt"
   ]
  },
  {
   "cell_type": "markdown",
   "metadata": {},
   "source": [
    "**1.2 Leemos los datos**"
   ]
  },
  {
   "cell_type": "code",
   "execution_count": 2,
   "metadata": {},
   "outputs": [],
   "source": [
    "#Leer datos\n",
    "\n",
    "data_0 = pd.read_csv('/datasets/geo_data_0.csv')\n",
    "\n",
    "data_1 = pd.read_csv('/datasets/geo_data_1.csv')\n",
    "\n",
    "data_2 = pd.read_csv('/datasets/geo_data_2.csv')\n"
   ]
  },
  {
   "cell_type": "markdown",
   "metadata": {},
   "source": [
    "**1.2 Preparamos los datos**"
   ]
  },
  {
   "cell_type": "code",
   "execution_count": 3,
   "metadata": {},
   "outputs": [
    {
     "name": "stdout",
     "output_type": "stream",
     "text": [
      "<class 'pandas.core.frame.DataFrame'>\n",
      "RangeIndex: 100000 entries, 0 to 99999\n",
      "Data columns (total 5 columns):\n",
      " #   Column   Non-Null Count   Dtype  \n",
      "---  ------   --------------   -----  \n",
      " 0   id       100000 non-null  object \n",
      " 1   f0       100000 non-null  float64\n",
      " 2   f1       100000 non-null  float64\n",
      " 3   f2       100000 non-null  float64\n",
      " 4   product  100000 non-null  float64\n",
      "dtypes: float64(4), object(1)\n",
      "memory usage: 3.8+ MB\n"
     ]
    },
    {
     "data": {
      "text/html": [
       "<div>\n",
       "<style scoped>\n",
       "    .dataframe tbody tr th:only-of-type {\n",
       "        vertical-align: middle;\n",
       "    }\n",
       "\n",
       "    .dataframe tbody tr th {\n",
       "        vertical-align: top;\n",
       "    }\n",
       "\n",
       "    .dataframe thead th {\n",
       "        text-align: right;\n",
       "    }\n",
       "</style>\n",
       "<table border=\"1\" class=\"dataframe\">\n",
       "  <thead>\n",
       "    <tr style=\"text-align: right;\">\n",
       "      <th></th>\n",
       "      <th>id</th>\n",
       "      <th>f0</th>\n",
       "      <th>f1</th>\n",
       "      <th>f2</th>\n",
       "      <th>product</th>\n",
       "    </tr>\n",
       "  </thead>\n",
       "  <tbody>\n",
       "    <tr>\n",
       "      <th>0</th>\n",
       "      <td>txEyH</td>\n",
       "      <td>0.705745</td>\n",
       "      <td>-0.497823</td>\n",
       "      <td>1.221170</td>\n",
       "      <td>105.280062</td>\n",
       "    </tr>\n",
       "    <tr>\n",
       "      <th>1</th>\n",
       "      <td>2acmU</td>\n",
       "      <td>1.334711</td>\n",
       "      <td>-0.340164</td>\n",
       "      <td>4.365080</td>\n",
       "      <td>73.037750</td>\n",
       "    </tr>\n",
       "    <tr>\n",
       "      <th>2</th>\n",
       "      <td>409Wp</td>\n",
       "      <td>1.022732</td>\n",
       "      <td>0.151990</td>\n",
       "      <td>1.419926</td>\n",
       "      <td>85.265647</td>\n",
       "    </tr>\n",
       "    <tr>\n",
       "      <th>3</th>\n",
       "      <td>iJLyR</td>\n",
       "      <td>-0.032172</td>\n",
       "      <td>0.139033</td>\n",
       "      <td>2.978566</td>\n",
       "      <td>168.620776</td>\n",
       "    </tr>\n",
       "    <tr>\n",
       "      <th>4</th>\n",
       "      <td>Xdl7t</td>\n",
       "      <td>1.988431</td>\n",
       "      <td>0.155413</td>\n",
       "      <td>4.751769</td>\n",
       "      <td>154.036647</td>\n",
       "    </tr>\n",
       "  </tbody>\n",
       "</table>\n",
       "</div>"
      ],
      "text/plain": [
       "      id        f0        f1        f2     product\n",
       "0  txEyH  0.705745 -0.497823  1.221170  105.280062\n",
       "1  2acmU  1.334711 -0.340164  4.365080   73.037750\n",
       "2  409Wp  1.022732  0.151990  1.419926   85.265647\n",
       "3  iJLyR -0.032172  0.139033  2.978566  168.620776\n",
       "4  Xdl7t  1.988431  0.155413  4.751769  154.036647"
      ]
     },
     "metadata": {},
     "output_type": "display_data"
    },
    {
     "name": "stdout",
     "output_type": "stream",
     "text": [
      "\n",
      "Numero de valores duplicados: 0\n"
     ]
    }
   ],
   "source": [
    "#Revision General del Conjunto de Datos 0\n",
    "\n",
    "data_0.info()\n",
    "display(data_0.head())\n",
    "print('\\nNumero de valores duplicados:',data_0.duplicated().sum())\n",
    "first_region = data_0.drop(['id'], axis = 1) #eliminamos columna innecesaria"
   ]
  },
  {
   "cell_type": "code",
   "execution_count": 4,
   "metadata": {},
   "outputs": [
    {
     "name": "stdout",
     "output_type": "stream",
     "text": [
      "<class 'pandas.core.frame.DataFrame'>\n",
      "RangeIndex: 100000 entries, 0 to 99999\n",
      "Data columns (total 5 columns):\n",
      " #   Column   Non-Null Count   Dtype  \n",
      "---  ------   --------------   -----  \n",
      " 0   id       100000 non-null  object \n",
      " 1   f0       100000 non-null  float64\n",
      " 2   f1       100000 non-null  float64\n",
      " 3   f2       100000 non-null  float64\n",
      " 4   product  100000 non-null  float64\n",
      "dtypes: float64(4), object(1)\n",
      "memory usage: 3.8+ MB\n"
     ]
    },
    {
     "data": {
      "text/html": [
       "<div>\n",
       "<style scoped>\n",
       "    .dataframe tbody tr th:only-of-type {\n",
       "        vertical-align: middle;\n",
       "    }\n",
       "\n",
       "    .dataframe tbody tr th {\n",
       "        vertical-align: top;\n",
       "    }\n",
       "\n",
       "    .dataframe thead th {\n",
       "        text-align: right;\n",
       "    }\n",
       "</style>\n",
       "<table border=\"1\" class=\"dataframe\">\n",
       "  <thead>\n",
       "    <tr style=\"text-align: right;\">\n",
       "      <th></th>\n",
       "      <th>id</th>\n",
       "      <th>f0</th>\n",
       "      <th>f1</th>\n",
       "      <th>f2</th>\n",
       "      <th>product</th>\n",
       "    </tr>\n",
       "  </thead>\n",
       "  <tbody>\n",
       "    <tr>\n",
       "      <th>0</th>\n",
       "      <td>kBEdx</td>\n",
       "      <td>-15.001348</td>\n",
       "      <td>-8.276000</td>\n",
       "      <td>-0.005876</td>\n",
       "      <td>3.179103</td>\n",
       "    </tr>\n",
       "    <tr>\n",
       "      <th>1</th>\n",
       "      <td>62mP7</td>\n",
       "      <td>14.272088</td>\n",
       "      <td>-3.475083</td>\n",
       "      <td>0.999183</td>\n",
       "      <td>26.953261</td>\n",
       "    </tr>\n",
       "    <tr>\n",
       "      <th>2</th>\n",
       "      <td>vyE1P</td>\n",
       "      <td>6.263187</td>\n",
       "      <td>-5.948386</td>\n",
       "      <td>5.001160</td>\n",
       "      <td>134.766305</td>\n",
       "    </tr>\n",
       "    <tr>\n",
       "      <th>3</th>\n",
       "      <td>KcrkZ</td>\n",
       "      <td>-13.081196</td>\n",
       "      <td>-11.506057</td>\n",
       "      <td>4.999415</td>\n",
       "      <td>137.945408</td>\n",
       "    </tr>\n",
       "    <tr>\n",
       "      <th>4</th>\n",
       "      <td>AHL4O</td>\n",
       "      <td>12.702195</td>\n",
       "      <td>-8.147433</td>\n",
       "      <td>5.004363</td>\n",
       "      <td>134.766305</td>\n",
       "    </tr>\n",
       "  </tbody>\n",
       "</table>\n",
       "</div>"
      ],
      "text/plain": [
       "      id         f0         f1        f2     product\n",
       "0  kBEdx -15.001348  -8.276000 -0.005876    3.179103\n",
       "1  62mP7  14.272088  -3.475083  0.999183   26.953261\n",
       "2  vyE1P   6.263187  -5.948386  5.001160  134.766305\n",
       "3  KcrkZ -13.081196 -11.506057  4.999415  137.945408\n",
       "4  AHL4O  12.702195  -8.147433  5.004363  134.766305"
      ]
     },
     "metadata": {},
     "output_type": "display_data"
    },
    {
     "name": "stdout",
     "output_type": "stream",
     "text": [
      "\n",
      "Numero de valores duplicados: 0\n"
     ]
    }
   ],
   "source": [
    "#Revision General del Conjunto de Datos 1\n",
    "\n",
    "data_1.info()\n",
    "display(data_1.head())\n",
    "print('\\nNumero de valores duplicados:',data_1.duplicated().sum())\n",
    "second_region = data_1.drop(['id'], axis = 1) #eliminamos columna innecesaria"
   ]
  },
  {
   "cell_type": "code",
   "execution_count": 5,
   "metadata": {},
   "outputs": [
    {
     "name": "stdout",
     "output_type": "stream",
     "text": [
      "<class 'pandas.core.frame.DataFrame'>\n",
      "RangeIndex: 100000 entries, 0 to 99999\n",
      "Data columns (total 5 columns):\n",
      " #   Column   Non-Null Count   Dtype  \n",
      "---  ------   --------------   -----  \n",
      " 0   id       100000 non-null  object \n",
      " 1   f0       100000 non-null  float64\n",
      " 2   f1       100000 non-null  float64\n",
      " 3   f2       100000 non-null  float64\n",
      " 4   product  100000 non-null  float64\n",
      "dtypes: float64(4), object(1)\n",
      "memory usage: 3.8+ MB\n"
     ]
    },
    {
     "data": {
      "text/html": [
       "<div>\n",
       "<style scoped>\n",
       "    .dataframe tbody tr th:only-of-type {\n",
       "        vertical-align: middle;\n",
       "    }\n",
       "\n",
       "    .dataframe tbody tr th {\n",
       "        vertical-align: top;\n",
       "    }\n",
       "\n",
       "    .dataframe thead th {\n",
       "        text-align: right;\n",
       "    }\n",
       "</style>\n",
       "<table border=\"1\" class=\"dataframe\">\n",
       "  <thead>\n",
       "    <tr style=\"text-align: right;\">\n",
       "      <th></th>\n",
       "      <th>id</th>\n",
       "      <th>f0</th>\n",
       "      <th>f1</th>\n",
       "      <th>f2</th>\n",
       "      <th>product</th>\n",
       "    </tr>\n",
       "  </thead>\n",
       "  <tbody>\n",
       "    <tr>\n",
       "      <th>0</th>\n",
       "      <td>fwXo0</td>\n",
       "      <td>-1.146987</td>\n",
       "      <td>0.963328</td>\n",
       "      <td>-0.828965</td>\n",
       "      <td>27.758673</td>\n",
       "    </tr>\n",
       "    <tr>\n",
       "      <th>1</th>\n",
       "      <td>WJtFt</td>\n",
       "      <td>0.262778</td>\n",
       "      <td>0.269839</td>\n",
       "      <td>-2.530187</td>\n",
       "      <td>56.069697</td>\n",
       "    </tr>\n",
       "    <tr>\n",
       "      <th>2</th>\n",
       "      <td>ovLUW</td>\n",
       "      <td>0.194587</td>\n",
       "      <td>0.289035</td>\n",
       "      <td>-5.586433</td>\n",
       "      <td>62.871910</td>\n",
       "    </tr>\n",
       "    <tr>\n",
       "      <th>3</th>\n",
       "      <td>q6cA6</td>\n",
       "      <td>2.236060</td>\n",
       "      <td>-0.553760</td>\n",
       "      <td>0.930038</td>\n",
       "      <td>114.572842</td>\n",
       "    </tr>\n",
       "    <tr>\n",
       "      <th>4</th>\n",
       "      <td>WPMUX</td>\n",
       "      <td>-0.515993</td>\n",
       "      <td>1.716266</td>\n",
       "      <td>5.899011</td>\n",
       "      <td>149.600746</td>\n",
       "    </tr>\n",
       "  </tbody>\n",
       "</table>\n",
       "</div>"
      ],
      "text/plain": [
       "      id        f0        f1        f2     product\n",
       "0  fwXo0 -1.146987  0.963328 -0.828965   27.758673\n",
       "1  WJtFt  0.262778  0.269839 -2.530187   56.069697\n",
       "2  ovLUW  0.194587  0.289035 -5.586433   62.871910\n",
       "3  q6cA6  2.236060 -0.553760  0.930038  114.572842\n",
       "4  WPMUX -0.515993  1.716266  5.899011  149.600746"
      ]
     },
     "metadata": {},
     "output_type": "display_data"
    },
    {
     "name": "stdout",
     "output_type": "stream",
     "text": [
      "\n",
      "Numero de valores duplicados: 0\n"
     ]
    }
   ],
   "source": [
    "#Revision General del Conjunto de Datos 2\n",
    "\n",
    "data_2.info()\n",
    "display(data_2.head())\n",
    "print('\\nNumero de valores duplicados:',data_1.duplicated().sum())\n",
    "third_region = data_2.drop(['id'], axis = 1) #eliminamos columna innecesaria"
   ]
  },
  {
   "cell_type": "markdown",
   "metadata": {},
   "source": [
    "**OBSERVACIONES**\n",
    "Nuestros conjuntos de datos estan listos para poder llevar a cabo la creación del modelo de regresión linear, no tenemos valores faltantes ni duplicados. En cada uno de nuestros conjuntos de datos eliminamos la columna nombrada `id` debido a que es una columna irrelevante y solo retrasaria nuestro proyecto ya que es una columna categorica y deberiamos de usar one hot encoding. Gracias a que es irrelevante podemos pasar a eliminarla y llevar a cabo nuestro analisis de una forma mas eficas y rapida."
   ]
  },
  {
   "cell_type": "markdown",
   "metadata": {},
   "source": [
    "# 2. Entrenamiento y pruebas del modelo para cada región"
   ]
  },
  {
   "cell_type": "code",
   "execution_count": 6,
   "metadata": {},
   "outputs": [],
   "source": [
    "# Unir los conjuntos de datos\n",
    "data = pd.concat([first_region, second_region, third_region], ignore_index=True)"
   ]
  },
  {
   "cell_type": "code",
   "execution_count": 7,
   "metadata": {},
   "outputs": [
    {
     "name": "stdout",
     "output_type": "stream",
     "text": [
      "Volumen Medio de Reservas Predicho: 92.59256778438035\n",
      "RMSE del Modelo: 37.5794217150813\n",
      "Volumen Medio de Reservas Predicho: 68.728546895446\n",
      "RMSE del Modelo: 0.893099286775617\n",
      "Volumen Medio de Reservas Predicho: 94.96504596800489\n",
      "RMSE del Modelo: 40.02970873393434\n"
     ]
    }
   ],
   "source": [
    "# Creacion de la funcion\n",
    "\n",
    "def train_model(data):\n",
    "    # Establecer features y train\n",
    "    features = data.drop(['product'], axis = 1)\n",
    "    target = data['product']\n",
    "    \n",
    "    # Dividir el conjunto de datos en 75 y 25\n",
    "    features_train, features_valid, target_train, target_valid = train_test_split(\n",
    "        features, target, test_size=0.25, random_state=12345)\n",
    "\n",
    "    # Entrenar el modelo de regresión lineal\n",
    "    modelo_regresion_lineal = LinearRegression()\n",
    "    modelo_regresion_lineal.fit(features_train, target_train)\n",
    "\n",
    "    # Hacer predicciones para el conjunto de validación\n",
    "    predicciones = modelo_regresion_lineal.predict(features_valid)\n",
    "\n",
    "    # Guardar las predicciones y las respuestas correctas para el conjunto de validación\n",
    "    resultados = pd.DataFrame({'Predicciones': predicciones, 'Respuestas Correctas': target_valid.values})\n",
    "\n",
    "    # Calcular el volumen medio de reservas predicho\n",
    "    volumen_medio_predicho = resultados['Predicciones'].mean()\n",
    "\n",
    "    # Calcular el RMSE del modelo\n",
    "    rmse = mean_squared_error(target_valid, predicciones, squared=False)\n",
    "    \n",
    "    # Mostrar los resultados\n",
    "    print(\"Volumen Medio de Reservas Predicho:\", volumen_medio_predicho)\n",
    "    print(\"RMSE del Modelo:\", rmse) \n",
    "    \n",
    "    return resultados\n",
    "    \n",
    "resultados_1 = train_model(first_region)\n",
    "resultados_2 =  train_model(second_region)\n",
    "resultados_3 = train_model(third_region)\n",
    "\n"
   ]
  },
  {
   "cell_type": "markdown",
   "metadata": {},
   "source": [
    "**OBSERVACIONES** En nuestros resultados podemos ver la region que posee en mayor Volumen Medio de Reservas predicho con base a nuestras predicciones y esta region es la tecera region con un promedio de `94.96`, le va pisando los talones la primera region con un promedio de `92.59` y en ultimo lugar tenemos a la region dos con un prmedio de `68.72`, sin embargo podemos ver que las predicciones de nuestra segunda region son mucho mas certeras que las demas ya que tiene un error cuadratico medio minimo de menos del 1 porciento con un `0.89` mientras que las predicciones de las regiones 1 y 3 tienen un error cuadratico medio significativo de mas de `35`.\n"
   ]
  },
  {
   "cell_type": "markdown",
   "metadata": {},
   "source": [
    "# 3. Preparación para el calculo de ganancias"
   ]
  },
  {
   "cell_type": "code",
   "execution_count": 8,
   "metadata": {},
   "outputs": [],
   "source": [
    "# variables necesarias para el calculo de la ganancia\n",
    "\n",
    "presupuesto = 100_000_000\n",
    "pozos = 200\n",
    "unidad = 4_500\n"
   ]
  },
  {
   "cell_type": "code",
   "execution_count": 9,
   "metadata": {},
   "outputs": [],
   "source": [
    "volumen_minimo = presupuesto/unidad"
   ]
  },
  {
   "cell_type": "code",
   "execution_count": 10,
   "metadata": {},
   "outputs": [
    {
     "name": "stdout",
     "output_type": "stream",
     "text": [
      "111.11111111111111\n"
     ]
    }
   ],
   "source": [
    "reservas_minimas_por_pozo =volumen_minimo/ pozos\n",
    "print(reservas_minimas_por_pozo)"
   ]
  },
  {
   "cell_type": "markdown",
   "metadata": {},
   "source": [
    "**OBSERVACIONES** Al usar las variables que se nos pidieron de `200 pozos`, un `presupuesto de 100,000,000` de dolares y el `ingreso por unidad de 4,500` dolares. Obtenemos que necesitamos 111.11 de reservas minimas por pozo, lo cual vemos que no sera un gran problema ya que los promedios recibidos por cada region de nuestra funcion anterior llamada `train_model` no estan muy lejos de esa capacidad. Para calcular el beneficio de cada region tendremos que crear una funcion que nos iterar sobre cada region y para ello tendremos que organizar nuestros conjuntos de datos en orden descendente para seleccionar los 200 pozos con la mayor cantidad de `volumen de reservas` despues obtener las respuestas correctas y sumar todas las reservas para despues multiplicarlas por nuestra variable de unidad y obtener de esta forma nuestro ingreso y finalmente restarle nuestro presupuesto para obtener nuestro beneficio."
   ]
  },
  {
   "cell_type": "markdown",
   "metadata": {},
   "source": [
    "# 4. Crearemos una función para calcular la ganancia de un conjunto de pozos"
   ]
  },
  {
   "cell_type": "code",
   "execution_count": 11,
   "metadata": {},
   "outputs": [],
   "source": [
    "\n",
    "def beneficio(df):\n",
    "    df = df.sort_values(by = 'Predicciones', ascending = False)\n",
    "\n",
    "    df = df.iloc[:200]\n",
    "    df_rc = df['Respuestas Correctas']\n",
    "    df_rc_sm = df_rc.sum()\n",
    "    ingresos =  df_rc_sm * unidad\n",
    "    beneficio = ingresos - presupuesto \n",
    "    return beneficio\n"
   ]
  },
  {
   "cell_type": "code",
   "execution_count": 12,
   "metadata": {},
   "outputs": [],
   "source": [
    "beneficio_1 = beneficio(resultados_1)\n",
    "beneficio_2 =  beneficio(resultados_2)\n",
    "beneficio_3 = beneficio(resultados_3)"
   ]
  },
  {
   "cell_type": "code",
   "execution_count": 13,
   "metadata": {},
   "outputs": [
    {
     "name": "stdout",
     "output_type": "stream",
     "text": [
      "beneficios de region_1: 33208260.43139851\n",
      "beneficios de region_2: 24150866.966815114\n",
      "beneficios de region_3: 27103499.635998324\n"
     ]
    }
   ],
   "source": [
    "# Mostrar los resultados\n",
    "\n",
    "print('beneficios de region_1:', beneficio_1)\n",
    "print('beneficios de region_2:', beneficio_2)\n",
    "print('beneficios de region_3:', beneficio_3)"
   ]
  },
  {
   "cell_type": "markdown",
   "metadata": {},
   "source": [
    "**OBSERVACIONES** La region 1 supera en gran manera a las regiones 2 y 3 en la cantidad de beneficios obtenidos. En la region 1 obtenemos un beneficio de mas de `33 millones de dolares` en nuestra region 3 obtenemos  mas de `27 millones de dolares` de beneficio y en nuestra region 2 obtenemos mas de `24 millones de dolares`. Esto tiene mucho sentido ya que obtenemos el mismo orden que el obtenido al calcular el promedio de nuestros beneficios. En este momento obtamos por quedarnos con la region 1 ya que supera en gran manera a las otras regiones, mas sin embargo proseguiremos con nuestro analisis, es probable que nuestra decision pueda cambiar ya que como hablamos anteriormente el error cuadratico medio para las regiones 1 y 3 eran muy altos."
   ]
  },
  {
   "cell_type": "markdown",
   "metadata": {},
   "source": [
    "# 5. Calcularemos los riesgos y ganancias para cada región"
   ]
  },
  {
   "cell_type": "markdown",
   "metadata": {},
   "source": [
    "**Region 1**"
   ]
  },
  {
   "cell_type": "code",
   "execution_count": 14,
   "metadata": {},
   "outputs": [
    {
     "name": "stdout",
     "output_type": "stream",
     "text": [
      "Beneficio Promedio: 180680.61923326552\n",
      "Intervalo de confianza del 95%: [-1126835.92264522  8718162.71721581]\n"
     ]
    }
   ],
   "source": [
    "# Region 1\n",
    "\n",
    "# Conjunto de datos para usar el bootstraping\n",
    "resultados_1_desc = resultados_1.sort_values(by = 'Predicciones', ascending = False)\n",
    "\n",
    "#Bootstrapping\n",
    "state = np.random.RandomState(12345)\n",
    "\n",
    "bootstrap_means =[]\n",
    "for i in range(1_000):\n",
    "    # Genera una muestra bootstrap con reemplazo usando resultados_1_desc.sample\n",
    "    bootstrap_sample = resultados_1_desc.sample(n= 500, replace=True, random_state = state)\n",
    "    \n",
    "    # tomar las top 200\n",
    "    bootstrap_sample = bootstrap_sample.sort_values(by = 'Predicciones', ascending = False).iloc[:200]['Respuestas Correctas']\n",
    "    \n",
    "    #Calcula el promedio\n",
    "    bootstrap_mean = bootstrap_sample.mean()\n",
    "    \n",
    "    # Suma\n",
    "    bts_sum = bootstrap_sample.sum()\n",
    "    \n",
    "    # Ingreso\n",
    "    ingreso = bts_sum * unidad\n",
    "    \n",
    "    #beneficio promedio\n",
    "    beneficio_prom = ingreso - presupuesto\n",
    "    \n",
    "    bootstrap_means.append(beneficio_prom)\n",
    "    \n",
    "intervalo_confianza_95 = np.percentile(bootstrap_means, [2.5, 97.5])\n",
    "\n",
    "print(f'Beneficio Promedio: {beneficio_prom}')\n",
    "print(f'Intervalo de confianza del 95%: {intervalo_confianza_95}')"
   ]
  },
  {
   "cell_type": "code",
   "execution_count": 15,
   "metadata": {},
   "outputs": [
    {
     "data": {
      "image/png": "[encoded data removed]",
      "text/plain": [
       "<Figure size 432x288 with 1 Axes>"
      ]
     },
     "metadata": {
      "needs_background": "light"
     },
     "output_type": "display_data"
    }
   ],
   "source": [
    "# Mostrar la distribucion de beneficio\n",
    "plt.hist(bootstrap_means)\n",
    "plt.title('Distribucion de los beneficios Region 3')\n",
    "plt.xlabel('Valores')\n",
    "plt.ylabel('Frecuencia')\n",
    "plt.show()"
   ]
  },
  {
   "cell_type": "code",
   "execution_count": 16,
   "metadata": {},
   "outputs": [
    {
     "name": "stdout",
     "output_type": "stream",
     "text": [
      "Porcentaje de riesgo de perdidas en la region uno: 7.3\n"
     ]
    }
   ],
   "source": [
    "rg1_riesgo_perdidas = (pd.Series(bootstrap_means)< 0).mean() * 100\n",
    "print('Porcentaje de riesgo de perdidas en la region uno:', rg1_riesgo_perdidas)"
   ]
  },
  {
   "cell_type": "markdown",
   "metadata": {},
   "source": [
    "**OBSERVACIONES** Debido a que la region 1 tiene un porcentaje de riesgo de perdidas superior al 2.5% porciento que se nos pedia  como maximo, tendremos que descartar esta region. Ademas podemos ver que el beneficio bajo demasiado al tener ahora tan solo `180,680` dolares. Menos mal que hizimos un bootstraping y nos evitamos de haber cometido un error grande."
   ]
  },
  {
   "cell_type": "markdown",
   "metadata": {},
   "source": [
    "**Region 2**"
   ]
  },
  {
   "cell_type": "code",
   "execution_count": 17,
   "metadata": {},
   "outputs": [
    {
     "name": "stdout",
     "output_type": "stream",
     "text": [
      "Beneficio Promedio: 4406151.931772143\n",
      "Intervalo de confianza del 95%: [ 616487.14750161 8502275.29397123]\n"
     ]
    }
   ],
   "source": [
    "# Region 2\n",
    "\n",
    "# Conjunto de datos para usar el bootstraping\n",
    "resultados_2_desc = resultados_2.sort_values(by = 'Predicciones', ascending = False)\n",
    "\n",
    "#Bootstrapping\n",
    "state = np.random.RandomState(12345)\n",
    "\n",
    "bootstrap2_means =[]\n",
    "for i in range(1_000):\n",
    "    # Genera una muestra bootstrap con reemplazo usando resultados_1_desc.sample\n",
    "    resultados2_sample = resultados_2_desc.sample(n= 500, replace=True, random_state = state)\n",
    "    \n",
    "    # tomar las top 200\n",
    "    resultados2_sample = resultados2_sample.sort_values(by = 'Predicciones', ascending = False).iloc[:200]['Respuestas Correctas']\n",
    "    \n",
    "    #Calcula el promedio\n",
    "    bootstrap2_mean = resultados2_sample.mean()\n",
    "    \n",
    "    # Suma\n",
    "    bts2_sum = resultados2_sample.sum()\n",
    "    \n",
    "    # Ingreso\n",
    "    ingreso2 = bts2_sum * unidad\n",
    "    \n",
    "    #beneficio promedio\n",
    "    beneficio2_prom = ingreso2 - presupuesto\n",
    "    \n",
    "    bootstrap2_means.append(beneficio2_prom)\n",
    "    \n",
    "intervalo2_confianza_95 = np.percentile(bootstrap2_means, [2.5, 97.5])\n",
    "\n",
    "print(f'Beneficio Promedio: {beneficio2_prom}')\n",
    "print(f'Intervalo de confianza del 95%: {intervalo2_confianza_95}')"
   ]
  },
  {
   "cell_type": "code",
   "execution_count": 18,
   "metadata": {},
   "outputs": [
    {
     "data": {
      "image/png": "[encoded data removed]",
      "text/plain": [
       "<Figure size 432x288 with 1 Axes>"
      ]
     },
     "metadata": {
      "needs_background": "light"
     },
     "output_type": "display_data"
    }
   ],
   "source": [
    "# Mostrar la distribucion de beneficio\n",
    "plt.hist(bootstrap2_means)\n",
    "plt.title('Distribucion de los beneficios Region 2')\n",
    "plt.xlabel('Valores')\n",
    "plt.ylabel('Frecuencia')\n",
    "plt.show()"
   ]
  },
  {
   "cell_type": "code",
   "execution_count": 19,
   "metadata": {},
   "outputs": [
    {
     "name": "stdout",
     "output_type": "stream",
     "text": [
      "Porcentaje de riesgo de perdidas en la region dos: 1.0999999999999999\n"
     ]
    }
   ],
   "source": [
    "rg2_riesgo_perdidas = (pd.Series(bootstrap2_means)< 0).mean() * 100\n",
    "print('Porcentaje de riesgo de perdidas en la region dos:', rg2_riesgo_perdidas)"
   ]
  },
  {
   "cell_type": "markdown",
   "metadata": {},
   "source": [
    "**OBSERVACIONES** En este momento esta es la mejor region, la region numero 2 tiene un beneficio promedio de poco mas de `44 millones de dolares` y tiene un riesgo de `1.09%` el cual cumple con la condicion que se nos solicito. Todo esto tiene sentido ya que esta region poseia el error cuadratico medio menor  en comparacion al de las otras dos regiones."
   ]
  },
  {
   "cell_type": "markdown",
   "metadata": {},
   "source": [
    "**Region 3**"
   ]
  },
  {
   "cell_type": "code",
   "execution_count": 20,
   "metadata": {},
   "outputs": [
    {
     "name": "stdout",
     "output_type": "stream",
     "text": [
      "Beneficio Promedio: 7465417.248679817\n",
      "Intervalo de confianza del 95%: [-1606718.64158192  8631595.8165495 ]\n"
     ]
    }
   ],
   "source": [
    "# Region 3\n",
    "\n",
    "# Conjunto de datos para usar el bootstraping\n",
    "resultados_3_desc = resultados_3.sort_values(by = 'Predicciones', ascending = False)\n",
    "\n",
    "#Bootstrapping\n",
    "state = np.random.RandomState(12345)\n",
    "\n",
    "bootstrap3_means =[]\n",
    "for i in range(1_000):\n",
    "    # Genera una muestra bootstrap con reemplazo usando resultados_1_desc.sample\n",
    "    resultados3_sample = resultados_3_desc.sample(n= 500, replace=True, random_state = state)\n",
    "    \n",
    "    # tomar las top 200\n",
    "    resultados3_sample = resultados3_sample.sort_values(by = 'Predicciones', ascending = False).iloc[:200]['Respuestas Correctas']\n",
    "    \n",
    "    #Calcula el promedio\n",
    "    bootstrap3_mean = resultados3_sample.mean()\n",
    "    \n",
    "    # Suma\n",
    "    bts3_sum = resultados3_sample.sum()\n",
    "    \n",
    "    # Ingreso\n",
    "    ingreso3 = bts3_sum * unidad\n",
    "    \n",
    "    #beneficio promedio\n",
    "    beneficio3_prom = ingreso3 - presupuesto\n",
    "    \n",
    "    bootstrap3_means.append(beneficio3_prom)\n",
    "    \n",
    "intervalo3_confianza_95 = np.percentile(bootstrap3_means, [2.5, 97.5])\n",
    "\n",
    "print(f'Beneficio Promedio: {beneficio3_prom}')\n",
    "print(f'Intervalo de confianza del 95%: {intervalo3_confianza_95}')"
   ]
  },
  {
   "cell_type": "code",
   "execution_count": 21,
   "metadata": {},
   "outputs": [
    {
     "data": {
      "image/png": "[encoded data removed]",
      "text/plain": [
       "<Figure size 432x288 with 1 Axes>"
      ]
     },
     "metadata": {
      "needs_background": "light"
     },
     "output_type": "display_data"
    }
   ],
   "source": [
    "plt.hist(bootstrap3_means)\n",
    "plt.title('Distribucion de los beneficios Region 3')\n",
    "plt.xlabel('Valores')\n",
    "plt.ylabel('Frecuencia')\n",
    "plt.show()"
   ]
  },
  {
   "cell_type": "code",
   "execution_count": 22,
   "metadata": {},
   "outputs": [
    {
     "name": "stdout",
     "output_type": "stream",
     "text": [
      "Porcentaje de riesgo de perdidas en la region dos: 7.5\n"
     ]
    }
   ],
   "source": [
    "rg3_riesgo_perdidas = (pd.Series(bootstrap3_means)< 0).mean() * 100\n",
    "print('Porcentaje de riesgo de perdidas en la region dos:', rg3_riesgo_perdidas)"
   ]
  },
  {
   "cell_type": "markdown",
   "metadata": {},
   "source": [
    "**OBSERVACIONES** de la misma forma que la region 1 podemos ver que esta region, la region 3 tiene un porcentaje de riego superor al solicitado con un riesgo de `7.5%` el mas grave de todos por lo cual tendremos que descartarlo."
   ]
  },
  {
   "cell_type": "markdown",
   "metadata": {},
   "source": [
    "# 6. Conclusiones"
   ]
  },
  {
   "cell_type": "markdown",
   "metadata": {},
   "source": [
    "Al realizar este proyecto descubrimos la importancia de emplear la tecnica del bootstrapping y como nos ayudo a evitar la toma de una decision erronea que hubiera llevado a grandes perdidas de dinero para la empresa. De este proyecto me gustaria destacar tres puntos.\n",
    "\n",
    "1. La region 2 es la mejor región para el desarrollo de pozos con un riesgo de perdidas de `1.09%` y un promedio de `44 millones de dolares` de ganancia.\n",
    "2. La tecnica bootstrapping nos ayudo a revelar resultados mas certeros evitando el engaño que se podia causar por los altos porcentajes de rsme en las regiones 1 y 2\n",
    "3. Siempre sera mejor no dejarnos llevar por nuestros primeros calculos y tratar de llevar a cabo otros calculos que nos permitan ver las cosas mas a fondo y respaldar nuestros resultados para tomar la mejor decision posible."
   ]
  }
 ],
 "metadata": {
  "kernelspec": {
   "display_name": "Python 3 (ipykernel)",
   "language": "python",
   "name": "python3"
  },
  "language_info": {
   "codemirror_mode": {
    "name": "ipython",
    "version": 3
   },
   "file_extension": ".py",
   "mimetype": "text/x-python",
   "name": "python",
   "nbconvert_exporter": "python",
   "pygments_lexer": "ipython3",
   "version": "3.9.5"
  },
  "toc": {
   "base_numbering": 1,
   "nav_menu": {},
   "number_sections": true,
   "sideBar": true,
   "skip_h1_title": true,
   "title_cell": "Table of Contents",
   "title_sidebar": "Contents",
   "toc_cell": false,
   "toc_position": {},
   "toc_section_display": true,
   "toc_window_display": false
  }
 },
 "nbformat": 4,
 "nbformat_minor": 2
}
