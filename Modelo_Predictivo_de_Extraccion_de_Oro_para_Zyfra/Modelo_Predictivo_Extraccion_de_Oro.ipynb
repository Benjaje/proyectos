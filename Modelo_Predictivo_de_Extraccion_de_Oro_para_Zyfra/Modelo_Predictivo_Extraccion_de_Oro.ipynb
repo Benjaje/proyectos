{
 "cells": [
  {
   "cell_type": "markdown",
   "metadata": {},
   "source": [
    "# Introduccion\n",
    "En este proyecto utilizamos datos proporcionados por Zyfra que contiene las concentraciones de minerales como el oro,la plata y otros mas, este conjunto tiene informacion que nos ayuda a reconocer como cambia la concentracion de cada mineral en cada etapa de la purificacion del mineral.Preparemos un prototipo de un modelo de machine learning para Zyfra. La empresa desarrolla soluciones de eficiencia para la industria pesada. Para esto llevaremos a cabo las siguientes etapas.\n",
    "\n",
    "**ETAPAS\n",
    "1. Importaremos las librerias y revisaremos los datos\n",
    "    * 1.1 Importar Librerias\n",
    "    * 1.2 Revisar los Datos\n",
    "2. Comprobaremos que el calculo de la recuperacion sea correcto\n",
    "3. Analizaremos cuales son las características no disponibles en el conjunto de prueba.\n",
    "4. Preprocesamiento de Datos\n",
    "5. Analisis de los datos\n",
    "    * 5.1 Observaremos cómo cambia la concentración de metales (Au, Ag, Pb) en función de la etapa de purificación.\n",
    "        * 5.1.1 Cambio de Concentracion Au\n",
    "        * 5.1.2 Cambio de Concentracion Ag\n",
    "        * 5.1.3 Cambio de Concentracion Pb\n",
    "6. Compararemos las distribuciones del tamaño de las partículas de la alimentación en el conjunto de entrenamiento y en   el conjunto de prueba.\n",
    "7. Consideraremos las concentraciones totales de todas las sustancias en las diferentes etapas: materia prima, concentrado rougher y concentrado final.\n",
    "8. Construiremos nuestro modelo para calcular el valor final de sMAPE\n",
    "    * 8.1 Modelo de Regresion Lineal\n",
    "    * 8.2 Modelo de Arbol\n",
    "    * 8.3 Modelo de Bosque\n",
    "9. Conclusion"
   ]
  },
  {
   "cell_type": "markdown",
   "metadata": {},
   "source": [
    "# 1. Importaremos las Librerias y Revisaremos los Datos"
   ]
  },
  {
   "cell_type": "markdown",
   "metadata": {},
   "source": [
    "**1.1 Importaremos Las Librerias necesarias**"
   ]
  },
  {
   "cell_type": "code",
   "execution_count": 1,
   "metadata": {},
   "outputs": [],
   "source": [
    "import pandas as pd\n",
    "import numpy as np\n",
    "from sklearn.model_selection import train_test_split\n",
    "from sklearn.linear_model import LinearRegression\n",
    "from sklearn.tree import DecisionTreeRegressor\n",
    "from sklearn.ensemble import RandomForestRegressor\n",
    "from sklearn.metrics import mean_squared_error\n",
    "import matplotlib.pyplot as plt\n",
    "from sklearn.metrics import make_scorer\n",
    "from sklearn.model_selection import cross_val_score"
   ]
  },
  {
   "cell_type": "markdown",
   "metadata": {},
   "source": [
    "**1.2 Revisaremos Los Datos**"
   ]
  },
  {
   "cell_type": "code",
   "execution_count": 2,
   "metadata": {},
   "outputs": [],
   "source": [
    "#Leeremos los datos\n",
    "data_train = pd.read_csv('/datasets/gold_recovery_train.csv')\n",
    "\n",
    "data_test = pd.read_csv('/datasets/gold_recovery_test.csv')\n",
    "\n",
    "data_source = pd.read_csv('/datasets/gold_recovery_full.csv')"
   ]
  },
  {
   "cell_type": "code",
   "execution_count": 3,
   "metadata": {},
   "outputs": [
    {
     "data": {
      "text/html": [
       "<div>\n",
       "<style scoped>\n",
       "    .dataframe tbody tr th:only-of-type {\n",
       "        vertical-align: middle;\n",
       "    }\n",
       "\n",
       "    .dataframe tbody tr th {\n",
       "        vertical-align: top;\n",
       "    }\n",
       "\n",
       "    .dataframe thead th {\n",
       "        text-align: right;\n",
       "    }\n",
       "</style>\n",
       "<table border=\"1\" class=\"dataframe\">\n",
       "  <thead>\n",
       "    <tr style=\"text-align: right;\">\n",
       "      <th></th>\n",
       "      <th>date</th>\n",
       "      <th>final.output.concentrate_ag</th>\n",
       "      <th>final.output.concentrate_pb</th>\n",
       "      <th>final.output.concentrate_sol</th>\n",
       "      <th>final.output.concentrate_au</th>\n",
       "      <th>final.output.recovery</th>\n",
       "      <th>final.output.tail_ag</th>\n",
       "      <th>final.output.tail_pb</th>\n",
       "      <th>final.output.tail_sol</th>\n",
       "      <th>final.output.tail_au</th>\n",
       "      <th>...</th>\n",
       "      <th>secondary_cleaner.state.floatbank4_a_air</th>\n",
       "      <th>secondary_cleaner.state.floatbank4_a_level</th>\n",
       "      <th>secondary_cleaner.state.floatbank4_b_air</th>\n",
       "      <th>secondary_cleaner.state.floatbank4_b_level</th>\n",
       "      <th>secondary_cleaner.state.floatbank5_a_air</th>\n",
       "      <th>secondary_cleaner.state.floatbank5_a_level</th>\n",
       "      <th>secondary_cleaner.state.floatbank5_b_air</th>\n",
       "      <th>secondary_cleaner.state.floatbank5_b_level</th>\n",
       "      <th>secondary_cleaner.state.floatbank6_a_air</th>\n",
       "      <th>secondary_cleaner.state.floatbank6_a_level</th>\n",
       "    </tr>\n",
       "  </thead>\n",
       "  <tbody>\n",
       "    <tr>\n",
       "      <th>0</th>\n",
       "      <td>2016-01-15 00:00:00</td>\n",
       "      <td>6.055403</td>\n",
       "      <td>9.889648</td>\n",
       "      <td>5.507324</td>\n",
       "      <td>42.192020</td>\n",
       "      <td>70.541216</td>\n",
       "      <td>10.411962</td>\n",
       "      <td>0.895447</td>\n",
       "      <td>16.904297</td>\n",
       "      <td>2.143149</td>\n",
       "      <td>...</td>\n",
       "      <td>14.016835</td>\n",
       "      <td>-502.488007</td>\n",
       "      <td>12.099931</td>\n",
       "      <td>-504.715942</td>\n",
       "      <td>9.925633</td>\n",
       "      <td>-498.310211</td>\n",
       "      <td>8.079666</td>\n",
       "      <td>-500.470978</td>\n",
       "      <td>14.151341</td>\n",
       "      <td>-605.841980</td>\n",
       "    </tr>\n",
       "    <tr>\n",
       "      <th>1</th>\n",
       "      <td>2016-01-15 01:00:00</td>\n",
       "      <td>6.029369</td>\n",
       "      <td>9.968944</td>\n",
       "      <td>5.257781</td>\n",
       "      <td>42.701629</td>\n",
       "      <td>69.266198</td>\n",
       "      <td>10.462676</td>\n",
       "      <td>0.927452</td>\n",
       "      <td>16.634514</td>\n",
       "      <td>2.224930</td>\n",
       "      <td>...</td>\n",
       "      <td>13.992281</td>\n",
       "      <td>-505.503262</td>\n",
       "      <td>11.950531</td>\n",
       "      <td>-501.331529</td>\n",
       "      <td>10.039245</td>\n",
       "      <td>-500.169983</td>\n",
       "      <td>7.984757</td>\n",
       "      <td>-500.582168</td>\n",
       "      <td>13.998353</td>\n",
       "      <td>-599.787184</td>\n",
       "    </tr>\n",
       "    <tr>\n",
       "      <th>2</th>\n",
       "      <td>2016-01-15 02:00:00</td>\n",
       "      <td>6.055926</td>\n",
       "      <td>10.213995</td>\n",
       "      <td>5.383759</td>\n",
       "      <td>42.657501</td>\n",
       "      <td>68.116445</td>\n",
       "      <td>10.507046</td>\n",
       "      <td>0.953716</td>\n",
       "      <td>16.208849</td>\n",
       "      <td>2.257889</td>\n",
       "      <td>...</td>\n",
       "      <td>14.015015</td>\n",
       "      <td>-502.520901</td>\n",
       "      <td>11.912783</td>\n",
       "      <td>-501.133383</td>\n",
       "      <td>10.070913</td>\n",
       "      <td>-500.129135</td>\n",
       "      <td>8.013877</td>\n",
       "      <td>-500.517572</td>\n",
       "      <td>14.028663</td>\n",
       "      <td>-601.427363</td>\n",
       "    </tr>\n",
       "    <tr>\n",
       "      <th>3</th>\n",
       "      <td>2016-01-15 03:00:00</td>\n",
       "      <td>6.047977</td>\n",
       "      <td>9.977019</td>\n",
       "      <td>4.858634</td>\n",
       "      <td>42.689819</td>\n",
       "      <td>68.347543</td>\n",
       "      <td>10.422762</td>\n",
       "      <td>0.883763</td>\n",
       "      <td>16.532835</td>\n",
       "      <td>2.146849</td>\n",
       "      <td>...</td>\n",
       "      <td>14.036510</td>\n",
       "      <td>-500.857308</td>\n",
       "      <td>11.999550</td>\n",
       "      <td>-501.193686</td>\n",
       "      <td>9.970366</td>\n",
       "      <td>-499.201640</td>\n",
       "      <td>7.977324</td>\n",
       "      <td>-500.255908</td>\n",
       "      <td>14.005551</td>\n",
       "      <td>-599.996129</td>\n",
       "    </tr>\n",
       "    <tr>\n",
       "      <th>4</th>\n",
       "      <td>2016-01-15 04:00:00</td>\n",
       "      <td>6.148599</td>\n",
       "      <td>10.142511</td>\n",
       "      <td>4.939416</td>\n",
       "      <td>42.774141</td>\n",
       "      <td>66.927016</td>\n",
       "      <td>10.360302</td>\n",
       "      <td>0.792826</td>\n",
       "      <td>16.525686</td>\n",
       "      <td>2.055292</td>\n",
       "      <td>...</td>\n",
       "      <td>14.027298</td>\n",
       "      <td>-499.838632</td>\n",
       "      <td>11.953070</td>\n",
       "      <td>-501.053894</td>\n",
       "      <td>9.925709</td>\n",
       "      <td>-501.686727</td>\n",
       "      <td>7.894242</td>\n",
       "      <td>-500.356035</td>\n",
       "      <td>13.996647</td>\n",
       "      <td>-601.496691</td>\n",
       "    </tr>\n",
       "  </tbody>\n",
       "</table>\n",
       "<p>5 rows × 87 columns</p>\n",
       "</div>"
      ],
      "text/plain": [
       "                  date  final.output.concentrate_ag  \\\n",
       "0  2016-01-15 00:00:00                     6.055403   \n",
       "1  2016-01-15 01:00:00                     6.029369   \n",
       "2  2016-01-15 02:00:00                     6.055926   \n",
       "3  2016-01-15 03:00:00                     6.047977   \n",
       "4  2016-01-15 04:00:00                     6.148599   \n",
       "\n",
       "   final.output.concentrate_pb  final.output.concentrate_sol  \\\n",
       "0                     9.889648                      5.507324   \n",
       "1                     9.968944                      5.257781   \n",
       "2                    10.213995                      5.383759   \n",
       "3                     9.977019                      4.858634   \n",
       "4                    10.142511                      4.939416   \n",
       "\n",
       "   final.output.concentrate_au  final.output.recovery  final.output.tail_ag  \\\n",
       "0                    42.192020              70.541216             10.411962   \n",
       "1                    42.701629              69.266198             10.462676   \n",
       "2                    42.657501              68.116445             10.507046   \n",
       "3                    42.689819              68.347543             10.422762   \n",
       "4                    42.774141              66.927016             10.360302   \n",
       "\n",
       "   final.output.tail_pb  final.output.tail_sol  final.output.tail_au  ...  \\\n",
       "0              0.895447              16.904297              2.143149  ...   \n",
       "1              0.927452              16.634514              2.224930  ...   \n",
       "2              0.953716              16.208849              2.257889  ...   \n",
       "3              0.883763              16.532835              2.146849  ...   \n",
       "4              0.792826              16.525686              2.055292  ...   \n",
       "\n",
       "   secondary_cleaner.state.floatbank4_a_air  \\\n",
       "0                                 14.016835   \n",
       "1                                 13.992281   \n",
       "2                                 14.015015   \n",
       "3                                 14.036510   \n",
       "4                                 14.027298   \n",
       "\n",
       "   secondary_cleaner.state.floatbank4_a_level  \\\n",
       "0                                 -502.488007   \n",
       "1                                 -505.503262   \n",
       "2                                 -502.520901   \n",
       "3                                 -500.857308   \n",
       "4                                 -499.838632   \n",
       "\n",
       "   secondary_cleaner.state.floatbank4_b_air  \\\n",
       "0                                 12.099931   \n",
       "1                                 11.950531   \n",
       "2                                 11.912783   \n",
       "3                                 11.999550   \n",
       "4                                 11.953070   \n",
       "\n",
       "   secondary_cleaner.state.floatbank4_b_level  \\\n",
       "0                                 -504.715942   \n",
       "1                                 -501.331529   \n",
       "2                                 -501.133383   \n",
       "3                                 -501.193686   \n",
       "4                                 -501.053894   \n",
       "\n",
       "   secondary_cleaner.state.floatbank5_a_air  \\\n",
       "0                                  9.925633   \n",
       "1                                 10.039245   \n",
       "2                                 10.070913   \n",
       "3                                  9.970366   \n",
       "4                                  9.925709   \n",
       "\n",
       "   secondary_cleaner.state.floatbank5_a_level  \\\n",
       "0                                 -498.310211   \n",
       "1                                 -500.169983   \n",
       "2                                 -500.129135   \n",
       "3                                 -499.201640   \n",
       "4                                 -501.686727   \n",
       "\n",
       "   secondary_cleaner.state.floatbank5_b_air  \\\n",
       "0                                  8.079666   \n",
       "1                                  7.984757   \n",
       "2                                  8.013877   \n",
       "3                                  7.977324   \n",
       "4                                  7.894242   \n",
       "\n",
       "   secondary_cleaner.state.floatbank5_b_level  \\\n",
       "0                                 -500.470978   \n",
       "1                                 -500.582168   \n",
       "2                                 -500.517572   \n",
       "3                                 -500.255908   \n",
       "4                                 -500.356035   \n",
       "\n",
       "   secondary_cleaner.state.floatbank6_a_air  \\\n",
       "0                                 14.151341   \n",
       "1                                 13.998353   \n",
       "2                                 14.028663   \n",
       "3                                 14.005551   \n",
       "4                                 13.996647   \n",
       "\n",
       "   secondary_cleaner.state.floatbank6_a_level  \n",
       "0                                 -605.841980  \n",
       "1                                 -599.787184  \n",
       "2                                 -601.427363  \n",
       "3                                 -599.996129  \n",
       "4                                 -601.496691  \n",
       "\n",
       "[5 rows x 87 columns]"
      ]
     },
     "metadata": {},
     "output_type": "display_data"
    },
    {
     "name": "stdout",
     "output_type": "stream",
     "text": [
      "\n",
      "numero de valores duplicados: 0\n"
     ]
    }
   ],
   "source": [
    "display(data_train.head())\n",
    "print('\\nnumero de valores duplicados:', data_train.duplicated().sum())"
   ]
  },
  {
   "cell_type": "code",
   "execution_count": 4,
   "metadata": {},
   "outputs": [
    {
     "data": {
      "text/html": [
       "<div>\n",
       "<style scoped>\n",
       "    .dataframe tbody tr th:only-of-type {\n",
       "        vertical-align: middle;\n",
       "    }\n",
       "\n",
       "    .dataframe tbody tr th {\n",
       "        vertical-align: top;\n",
       "    }\n",
       "\n",
       "    .dataframe thead th {\n",
       "        text-align: right;\n",
       "    }\n",
       "</style>\n",
       "<table border=\"1\" class=\"dataframe\">\n",
       "  <thead>\n",
       "    <tr style=\"text-align: right;\">\n",
       "      <th></th>\n",
       "      <th>date</th>\n",
       "      <th>primary_cleaner.input.sulfate</th>\n",
       "      <th>primary_cleaner.input.depressant</th>\n",
       "      <th>primary_cleaner.input.feed_size</th>\n",
       "      <th>primary_cleaner.input.xanthate</th>\n",
       "      <th>primary_cleaner.state.floatbank8_a_air</th>\n",
       "      <th>primary_cleaner.state.floatbank8_a_level</th>\n",
       "      <th>primary_cleaner.state.floatbank8_b_air</th>\n",
       "      <th>primary_cleaner.state.floatbank8_b_level</th>\n",
       "      <th>primary_cleaner.state.floatbank8_c_air</th>\n",
       "      <th>...</th>\n",
       "      <th>secondary_cleaner.state.floatbank4_a_air</th>\n",
       "      <th>secondary_cleaner.state.floatbank4_a_level</th>\n",
       "      <th>secondary_cleaner.state.floatbank4_b_air</th>\n",
       "      <th>secondary_cleaner.state.floatbank4_b_level</th>\n",
       "      <th>secondary_cleaner.state.floatbank5_a_air</th>\n",
       "      <th>secondary_cleaner.state.floatbank5_a_level</th>\n",
       "      <th>secondary_cleaner.state.floatbank5_b_air</th>\n",
       "      <th>secondary_cleaner.state.floatbank5_b_level</th>\n",
       "      <th>secondary_cleaner.state.floatbank6_a_air</th>\n",
       "      <th>secondary_cleaner.state.floatbank6_a_level</th>\n",
       "    </tr>\n",
       "  </thead>\n",
       "  <tbody>\n",
       "    <tr>\n",
       "      <th>0</th>\n",
       "      <td>2016-09-01 00:59:59</td>\n",
       "      <td>210.800909</td>\n",
       "      <td>14.993118</td>\n",
       "      <td>8.080000</td>\n",
       "      <td>1.005021</td>\n",
       "      <td>1398.981301</td>\n",
       "      <td>-500.225577</td>\n",
       "      <td>1399.144926</td>\n",
       "      <td>-499.919735</td>\n",
       "      <td>1400.102998</td>\n",
       "      <td>...</td>\n",
       "      <td>12.023554</td>\n",
       "      <td>-497.795834</td>\n",
       "      <td>8.016656</td>\n",
       "      <td>-501.289139</td>\n",
       "      <td>7.946562</td>\n",
       "      <td>-432.317850</td>\n",
       "      <td>4.872511</td>\n",
       "      <td>-500.037437</td>\n",
       "      <td>26.705889</td>\n",
       "      <td>-499.709414</td>\n",
       "    </tr>\n",
       "    <tr>\n",
       "      <th>1</th>\n",
       "      <td>2016-09-01 01:59:59</td>\n",
       "      <td>215.392455</td>\n",
       "      <td>14.987471</td>\n",
       "      <td>8.080000</td>\n",
       "      <td>0.990469</td>\n",
       "      <td>1398.777912</td>\n",
       "      <td>-500.057435</td>\n",
       "      <td>1398.055362</td>\n",
       "      <td>-499.778182</td>\n",
       "      <td>1396.151033</td>\n",
       "      <td>...</td>\n",
       "      <td>12.058140</td>\n",
       "      <td>-498.695773</td>\n",
       "      <td>8.130979</td>\n",
       "      <td>-499.634209</td>\n",
       "      <td>7.958270</td>\n",
       "      <td>-525.839648</td>\n",
       "      <td>4.878850</td>\n",
       "      <td>-500.162375</td>\n",
       "      <td>25.019940</td>\n",
       "      <td>-499.819438</td>\n",
       "    </tr>\n",
       "    <tr>\n",
       "      <th>2</th>\n",
       "      <td>2016-09-01 02:59:59</td>\n",
       "      <td>215.259946</td>\n",
       "      <td>12.884934</td>\n",
       "      <td>7.786667</td>\n",
       "      <td>0.996043</td>\n",
       "      <td>1398.493666</td>\n",
       "      <td>-500.868360</td>\n",
       "      <td>1398.860436</td>\n",
       "      <td>-499.764529</td>\n",
       "      <td>1398.075709</td>\n",
       "      <td>...</td>\n",
       "      <td>11.962366</td>\n",
       "      <td>-498.767484</td>\n",
       "      <td>8.096893</td>\n",
       "      <td>-500.827423</td>\n",
       "      <td>8.071056</td>\n",
       "      <td>-500.801673</td>\n",
       "      <td>4.905125</td>\n",
       "      <td>-499.828510</td>\n",
       "      <td>24.994862</td>\n",
       "      <td>-500.622559</td>\n",
       "    </tr>\n",
       "    <tr>\n",
       "      <th>3</th>\n",
       "      <td>2016-09-01 03:59:59</td>\n",
       "      <td>215.336236</td>\n",
       "      <td>12.006805</td>\n",
       "      <td>7.640000</td>\n",
       "      <td>0.863514</td>\n",
       "      <td>1399.618111</td>\n",
       "      <td>-498.863574</td>\n",
       "      <td>1397.440120</td>\n",
       "      <td>-499.211024</td>\n",
       "      <td>1400.129303</td>\n",
       "      <td>...</td>\n",
       "      <td>12.033091</td>\n",
       "      <td>-498.350935</td>\n",
       "      <td>8.074946</td>\n",
       "      <td>-499.474407</td>\n",
       "      <td>7.897085</td>\n",
       "      <td>-500.868509</td>\n",
       "      <td>4.931400</td>\n",
       "      <td>-499.963623</td>\n",
       "      <td>24.948919</td>\n",
       "      <td>-498.709987</td>\n",
       "    </tr>\n",
       "    <tr>\n",
       "      <th>4</th>\n",
       "      <td>2016-09-01 04:59:59</td>\n",
       "      <td>199.099327</td>\n",
       "      <td>10.682530</td>\n",
       "      <td>7.530000</td>\n",
       "      <td>0.805575</td>\n",
       "      <td>1401.268123</td>\n",
       "      <td>-500.808305</td>\n",
       "      <td>1398.128818</td>\n",
       "      <td>-499.504543</td>\n",
       "      <td>1402.172226</td>\n",
       "      <td>...</td>\n",
       "      <td>12.025367</td>\n",
       "      <td>-500.786497</td>\n",
       "      <td>8.054678</td>\n",
       "      <td>-500.397500</td>\n",
       "      <td>8.107890</td>\n",
       "      <td>-509.526725</td>\n",
       "      <td>4.957674</td>\n",
       "      <td>-500.360026</td>\n",
       "      <td>25.003331</td>\n",
       "      <td>-500.856333</td>\n",
       "    </tr>\n",
       "  </tbody>\n",
       "</table>\n",
       "<p>5 rows × 53 columns</p>\n",
       "</div>"
      ],
      "text/plain": [
       "                  date  primary_cleaner.input.sulfate  \\\n",
       "0  2016-09-01 00:59:59                     210.800909   \n",
       "1  2016-09-01 01:59:59                     215.392455   \n",
       "2  2016-09-01 02:59:59                     215.259946   \n",
       "3  2016-09-01 03:59:59                     215.336236   \n",
       "4  2016-09-01 04:59:59                     199.099327   \n",
       "\n",
       "   primary_cleaner.input.depressant  primary_cleaner.input.feed_size  \\\n",
       "0                         14.993118                         8.080000   \n",
       "1                         14.987471                         8.080000   \n",
       "2                         12.884934                         7.786667   \n",
       "3                         12.006805                         7.640000   \n",
       "4                         10.682530                         7.530000   \n",
       "\n",
       "   primary_cleaner.input.xanthate  primary_cleaner.state.floatbank8_a_air  \\\n",
       "0                        1.005021                             1398.981301   \n",
       "1                        0.990469                             1398.777912   \n",
       "2                        0.996043                             1398.493666   \n",
       "3                        0.863514                             1399.618111   \n",
       "4                        0.805575                             1401.268123   \n",
       "\n",
       "   primary_cleaner.state.floatbank8_a_level  \\\n",
       "0                               -500.225577   \n",
       "1                               -500.057435   \n",
       "2                               -500.868360   \n",
       "3                               -498.863574   \n",
       "4                               -500.808305   \n",
       "\n",
       "   primary_cleaner.state.floatbank8_b_air  \\\n",
       "0                             1399.144926   \n",
       "1                             1398.055362   \n",
       "2                             1398.860436   \n",
       "3                             1397.440120   \n",
       "4                             1398.128818   \n",
       "\n",
       "   primary_cleaner.state.floatbank8_b_level  \\\n",
       "0                               -499.919735   \n",
       "1                               -499.778182   \n",
       "2                               -499.764529   \n",
       "3                               -499.211024   \n",
       "4                               -499.504543   \n",
       "\n",
       "   primary_cleaner.state.floatbank8_c_air  ...  \\\n",
       "0                             1400.102998  ...   \n",
       "1                             1396.151033  ...   \n",
       "2                             1398.075709  ...   \n",
       "3                             1400.129303  ...   \n",
       "4                             1402.172226  ...   \n",
       "\n",
       "   secondary_cleaner.state.floatbank4_a_air  \\\n",
       "0                                 12.023554   \n",
       "1                                 12.058140   \n",
       "2                                 11.962366   \n",
       "3                                 12.033091   \n",
       "4                                 12.025367   \n",
       "\n",
       "   secondary_cleaner.state.floatbank4_a_level  \\\n",
       "0                                 -497.795834   \n",
       "1                                 -498.695773   \n",
       "2                                 -498.767484   \n",
       "3                                 -498.350935   \n",
       "4                                 -500.786497   \n",
       "\n",
       "   secondary_cleaner.state.floatbank4_b_air  \\\n",
       "0                                  8.016656   \n",
       "1                                  8.130979   \n",
       "2                                  8.096893   \n",
       "3                                  8.074946   \n",
       "4                                  8.054678   \n",
       "\n",
       "   secondary_cleaner.state.floatbank4_b_level  \\\n",
       "0                                 -501.289139   \n",
       "1                                 -499.634209   \n",
       "2                                 -500.827423   \n",
       "3                                 -499.474407   \n",
       "4                                 -500.397500   \n",
       "\n",
       "   secondary_cleaner.state.floatbank5_a_air  \\\n",
       "0                                  7.946562   \n",
       "1                                  7.958270   \n",
       "2                                  8.071056   \n",
       "3                                  7.897085   \n",
       "4                                  8.107890   \n",
       "\n",
       "   secondary_cleaner.state.floatbank5_a_level  \\\n",
       "0                                 -432.317850   \n",
       "1                                 -525.839648   \n",
       "2                                 -500.801673   \n",
       "3                                 -500.868509   \n",
       "4                                 -509.526725   \n",
       "\n",
       "   secondary_cleaner.state.floatbank5_b_air  \\\n",
       "0                                  4.872511   \n",
       "1                                  4.878850   \n",
       "2                                  4.905125   \n",
       "3                                  4.931400   \n",
       "4                                  4.957674   \n",
       "\n",
       "   secondary_cleaner.state.floatbank5_b_level  \\\n",
       "0                                 -500.037437   \n",
       "1                                 -500.162375   \n",
       "2                                 -499.828510   \n",
       "3                                 -499.963623   \n",
       "4                                 -500.360026   \n",
       "\n",
       "   secondary_cleaner.state.floatbank6_a_air  \\\n",
       "0                                 26.705889   \n",
       "1                                 25.019940   \n",
       "2                                 24.994862   \n",
       "3                                 24.948919   \n",
       "4                                 25.003331   \n",
       "\n",
       "   secondary_cleaner.state.floatbank6_a_level  \n",
       "0                                 -499.709414  \n",
       "1                                 -499.819438  \n",
       "2                                 -500.622559  \n",
       "3                                 -498.709987  \n",
       "4                                 -500.856333  \n",
       "\n",
       "[5 rows x 53 columns]"
      ]
     },
     "metadata": {},
     "output_type": "display_data"
    },
    {
     "name": "stdout",
     "output_type": "stream",
     "text": [
      "\n",
      " Numero de valores duplicados: 0\n"
     ]
    }
   ],
   "source": [
    "display(data_test.head())\n",
    "print('\\n Numero de valores duplicados:', data_test.duplicated().sum())"
   ]
  },
  {
   "cell_type": "code",
   "execution_count": 5,
   "metadata": {},
   "outputs": [
    {
     "data": {
      "text/html": [
       "<div>\n",
       "<style scoped>\n",
       "    .dataframe tbody tr th:only-of-type {\n",
       "        vertical-align: middle;\n",
       "    }\n",
       "\n",
       "    .dataframe tbody tr th {\n",
       "        vertical-align: top;\n",
       "    }\n",
       "\n",
       "    .dataframe thead th {\n",
       "        text-align: right;\n",
       "    }\n",
       "</style>\n",
       "<table border=\"1\" class=\"dataframe\">\n",
       "  <thead>\n",
       "    <tr style=\"text-align: right;\">\n",
       "      <th></th>\n",
       "      <th>date</th>\n",
       "      <th>final.output.concentrate_ag</th>\n",
       "      <th>final.output.concentrate_pb</th>\n",
       "      <th>final.output.concentrate_sol</th>\n",
       "      <th>final.output.concentrate_au</th>\n",
       "      <th>final.output.recovery</th>\n",
       "      <th>final.output.tail_ag</th>\n",
       "      <th>final.output.tail_pb</th>\n",
       "      <th>final.output.tail_sol</th>\n",
       "      <th>final.output.tail_au</th>\n",
       "      <th>...</th>\n",
       "      <th>secondary_cleaner.state.floatbank4_a_air</th>\n",
       "      <th>secondary_cleaner.state.floatbank4_a_level</th>\n",
       "      <th>secondary_cleaner.state.floatbank4_b_air</th>\n",
       "      <th>secondary_cleaner.state.floatbank4_b_level</th>\n",
       "      <th>secondary_cleaner.state.floatbank5_a_air</th>\n",
       "      <th>secondary_cleaner.state.floatbank5_a_level</th>\n",
       "      <th>secondary_cleaner.state.floatbank5_b_air</th>\n",
       "      <th>secondary_cleaner.state.floatbank5_b_level</th>\n",
       "      <th>secondary_cleaner.state.floatbank6_a_air</th>\n",
       "      <th>secondary_cleaner.state.floatbank6_a_level</th>\n",
       "    </tr>\n",
       "  </thead>\n",
       "  <tbody>\n",
       "    <tr>\n",
       "      <th>0</th>\n",
       "      <td>2016-01-15 00:00:00</td>\n",
       "      <td>6.055403</td>\n",
       "      <td>9.889648</td>\n",
       "      <td>5.507324</td>\n",
       "      <td>42.192020</td>\n",
       "      <td>70.541216</td>\n",
       "      <td>10.411962</td>\n",
       "      <td>0.895447</td>\n",
       "      <td>16.904297</td>\n",
       "      <td>2.143149</td>\n",
       "      <td>...</td>\n",
       "      <td>14.016835</td>\n",
       "      <td>-502.488007</td>\n",
       "      <td>12.099931</td>\n",
       "      <td>-504.715942</td>\n",
       "      <td>9.925633</td>\n",
       "      <td>-498.310211</td>\n",
       "      <td>8.079666</td>\n",
       "      <td>-500.470978</td>\n",
       "      <td>14.151341</td>\n",
       "      <td>-605.841980</td>\n",
       "    </tr>\n",
       "    <tr>\n",
       "      <th>1</th>\n",
       "      <td>2016-01-15 01:00:00</td>\n",
       "      <td>6.029369</td>\n",
       "      <td>9.968944</td>\n",
       "      <td>5.257781</td>\n",
       "      <td>42.701629</td>\n",
       "      <td>69.266198</td>\n",
       "      <td>10.462676</td>\n",
       "      <td>0.927452</td>\n",
       "      <td>16.634514</td>\n",
       "      <td>2.224930</td>\n",
       "      <td>...</td>\n",
       "      <td>13.992281</td>\n",
       "      <td>-505.503262</td>\n",
       "      <td>11.950531</td>\n",
       "      <td>-501.331529</td>\n",
       "      <td>10.039245</td>\n",
       "      <td>-500.169983</td>\n",
       "      <td>7.984757</td>\n",
       "      <td>-500.582168</td>\n",
       "      <td>13.998353</td>\n",
       "      <td>-599.787184</td>\n",
       "    </tr>\n",
       "    <tr>\n",
       "      <th>2</th>\n",
       "      <td>2016-01-15 02:00:00</td>\n",
       "      <td>6.055926</td>\n",
       "      <td>10.213995</td>\n",
       "      <td>5.383759</td>\n",
       "      <td>42.657501</td>\n",
       "      <td>68.116445</td>\n",
       "      <td>10.507046</td>\n",
       "      <td>0.953716</td>\n",
       "      <td>16.208849</td>\n",
       "      <td>2.257889</td>\n",
       "      <td>...</td>\n",
       "      <td>14.015015</td>\n",
       "      <td>-502.520901</td>\n",
       "      <td>11.912783</td>\n",
       "      <td>-501.133383</td>\n",
       "      <td>10.070913</td>\n",
       "      <td>-500.129135</td>\n",
       "      <td>8.013877</td>\n",
       "      <td>-500.517572</td>\n",
       "      <td>14.028663</td>\n",
       "      <td>-601.427363</td>\n",
       "    </tr>\n",
       "    <tr>\n",
       "      <th>3</th>\n",
       "      <td>2016-01-15 03:00:00</td>\n",
       "      <td>6.047977</td>\n",
       "      <td>9.977019</td>\n",
       "      <td>4.858634</td>\n",
       "      <td>42.689819</td>\n",
       "      <td>68.347543</td>\n",
       "      <td>10.422762</td>\n",
       "      <td>0.883763</td>\n",
       "      <td>16.532835</td>\n",
       "      <td>2.146849</td>\n",
       "      <td>...</td>\n",
       "      <td>14.036510</td>\n",
       "      <td>-500.857308</td>\n",
       "      <td>11.999550</td>\n",
       "      <td>-501.193686</td>\n",
       "      <td>9.970366</td>\n",
       "      <td>-499.201640</td>\n",
       "      <td>7.977324</td>\n",
       "      <td>-500.255908</td>\n",
       "      <td>14.005551</td>\n",
       "      <td>-599.996129</td>\n",
       "    </tr>\n",
       "    <tr>\n",
       "      <th>4</th>\n",
       "      <td>2016-01-15 04:00:00</td>\n",
       "      <td>6.148599</td>\n",
       "      <td>10.142511</td>\n",
       "      <td>4.939416</td>\n",
       "      <td>42.774141</td>\n",
       "      <td>66.927016</td>\n",
       "      <td>10.360302</td>\n",
       "      <td>0.792826</td>\n",
       "      <td>16.525686</td>\n",
       "      <td>2.055292</td>\n",
       "      <td>...</td>\n",
       "      <td>14.027298</td>\n",
       "      <td>-499.838632</td>\n",
       "      <td>11.953070</td>\n",
       "      <td>-501.053894</td>\n",
       "      <td>9.925709</td>\n",
       "      <td>-501.686727</td>\n",
       "      <td>7.894242</td>\n",
       "      <td>-500.356035</td>\n",
       "      <td>13.996647</td>\n",
       "      <td>-601.496691</td>\n",
       "    </tr>\n",
       "  </tbody>\n",
       "</table>\n",
       "<p>5 rows × 87 columns</p>\n",
       "</div>"
      ],
      "text/plain": [
       "                  date  final.output.concentrate_ag  \\\n",
       "0  2016-01-15 00:00:00                     6.055403   \n",
       "1  2016-01-15 01:00:00                     6.029369   \n",
       "2  2016-01-15 02:00:00                     6.055926   \n",
       "3  2016-01-15 03:00:00                     6.047977   \n",
       "4  2016-01-15 04:00:00                     6.148599   \n",
       "\n",
       "   final.output.concentrate_pb  final.output.concentrate_sol  \\\n",
       "0                     9.889648                      5.507324   \n",
       "1                     9.968944                      5.257781   \n",
       "2                    10.213995                      5.383759   \n",
       "3                     9.977019                      4.858634   \n",
       "4                    10.142511                      4.939416   \n",
       "\n",
       "   final.output.concentrate_au  final.output.recovery  final.output.tail_ag  \\\n",
       "0                    42.192020              70.541216             10.411962   \n",
       "1                    42.701629              69.266198             10.462676   \n",
       "2                    42.657501              68.116445             10.507046   \n",
       "3                    42.689819              68.347543             10.422762   \n",
       "4                    42.774141              66.927016             10.360302   \n",
       "\n",
       "   final.output.tail_pb  final.output.tail_sol  final.output.tail_au  ...  \\\n",
       "0              0.895447              16.904297              2.143149  ...   \n",
       "1              0.927452              16.634514              2.224930  ...   \n",
       "2              0.953716              16.208849              2.257889  ...   \n",
       "3              0.883763              16.532835              2.146849  ...   \n",
       "4              0.792826              16.525686              2.055292  ...   \n",
       "\n",
       "   secondary_cleaner.state.floatbank4_a_air  \\\n",
       "0                                 14.016835   \n",
       "1                                 13.992281   \n",
       "2                                 14.015015   \n",
       "3                                 14.036510   \n",
       "4                                 14.027298   \n",
       "\n",
       "   secondary_cleaner.state.floatbank4_a_level  \\\n",
       "0                                 -502.488007   \n",
       "1                                 -505.503262   \n",
       "2                                 -502.520901   \n",
       "3                                 -500.857308   \n",
       "4                                 -499.838632   \n",
       "\n",
       "   secondary_cleaner.state.floatbank4_b_air  \\\n",
       "0                                 12.099931   \n",
       "1                                 11.950531   \n",
       "2                                 11.912783   \n",
       "3                                 11.999550   \n",
       "4                                 11.953070   \n",
       "\n",
       "   secondary_cleaner.state.floatbank4_b_level  \\\n",
       "0                                 -504.715942   \n",
       "1                                 -501.331529   \n",
       "2                                 -501.133383   \n",
       "3                                 -501.193686   \n",
       "4                                 -501.053894   \n",
       "\n",
       "   secondary_cleaner.state.floatbank5_a_air  \\\n",
       "0                                  9.925633   \n",
       "1                                 10.039245   \n",
       "2                                 10.070913   \n",
       "3                                  9.970366   \n",
       "4                                  9.925709   \n",
       "\n",
       "   secondary_cleaner.state.floatbank5_a_level  \\\n",
       "0                                 -498.310211   \n",
       "1                                 -500.169983   \n",
       "2                                 -500.129135   \n",
       "3                                 -499.201640   \n",
       "4                                 -501.686727   \n",
       "\n",
       "   secondary_cleaner.state.floatbank5_b_air  \\\n",
       "0                                  8.079666   \n",
       "1                                  7.984757   \n",
       "2                                  8.013877   \n",
       "3                                  7.977324   \n",
       "4                                  7.894242   \n",
       "\n",
       "   secondary_cleaner.state.floatbank5_b_level  \\\n",
       "0                                 -500.470978   \n",
       "1                                 -500.582168   \n",
       "2                                 -500.517572   \n",
       "3                                 -500.255908   \n",
       "4                                 -500.356035   \n",
       "\n",
       "   secondary_cleaner.state.floatbank6_a_air  \\\n",
       "0                                 14.151341   \n",
       "1                                 13.998353   \n",
       "2                                 14.028663   \n",
       "3                                 14.005551   \n",
       "4                                 13.996647   \n",
       "\n",
       "   secondary_cleaner.state.floatbank6_a_level  \n",
       "0                                 -605.841980  \n",
       "1                                 -599.787184  \n",
       "2                                 -601.427363  \n",
       "3                                 -599.996129  \n",
       "4                                 -601.496691  \n",
       "\n",
       "[5 rows x 87 columns]"
      ]
     },
     "metadata": {},
     "output_type": "display_data"
    },
    {
     "name": "stdout",
     "output_type": "stream",
     "text": [
      "\n",
      "Numero de valores duplicados: 0\n"
     ]
    }
   ],
   "source": [
    "display(data_source.head())\n",
    "print('\\nNumero de valores duplicados:', data_source.duplicated().sum())"
   ]
  },
  {
   "cell_type": "markdown",
   "metadata": {},
   "source": [
    "**OBSERVACIONES:** En nuestros 3 conjuntos de datos podemos ver que no tenemos ningun dato duplicado. Si tenemos valores ausentes pero son una cantidad muy pequeña lo cual no afectara en este momento lo dejamos asi, en caso de ser requerido en un futuro descubriremos la forma adecuada para trabajar con nuestros datos nulos. Estamos listos para continuar con nuestro analisis."
   ]
  },
  {
   "cell_type": "markdown",
   "metadata": {},
   "source": [
    "# 2. Comprobar el calculo de la recuperacion sea correcto"
   ]
  },
  {
   "cell_type": "code",
   "execution_count": 6,
   "metadata": {},
   "outputs": [],
   "source": [
    "# Definir las columnas relevantes\n",
    "concentrate_au = data_train['rougher.output.concentrate_au']\n",
    "feed_au = data_train['rougher.input.feed_au']\n",
    "tail_au = data_train['rougher.output.tail_au']"
   ]
  },
  {
   "cell_type": "code",
   "execution_count": 7,
   "metadata": {},
   "outputs": [
    {
     "name": "stdout",
     "output_type": "stream",
     "text": [
      "EAM entre los cálculos y los valores reales de rougher.output.recovery: 9.303415616264301e-15\n"
     ]
    }
   ],
   "source": [
    "# Calcular la recuperación\n",
    "recovery_calculated = (concentrate_au * (feed_au - tail_au)) / (feed_au * (concentrate_au - tail_au)) * 100\n",
    "\n",
    "# Comparar con los valores reales\n",
    "recovery_actual = data_train['rougher.output.recovery']\n",
    "\n",
    "# Calcular el Error Absoluto Medio (EAM)\n",
    "eam = abs(recovery_calculated - recovery_actual).mean()\n",
    "\n",
    "# Mostrar los resultados\n",
    "print(\"EAM entre los cálculos y los valores reales de rougher.output.recovery:\", eam)"
   ]
  },
  {
   "cell_type": "markdown",
   "metadata": {},
   "source": [
    "**OBSERVACIONES:** Nuestro Error Absoluto Medio es muy pequeño lo cual nos indica que hay una coincidencia casi perfecta entre los cálculos y los valores reales. Lo cual significa que la diferencia entre los resultados calculados y los valores reales es extremadamente pequeña, lo que sugiere una alta precisión en el modelo o en los cálculos realizados."
   ]
  },
  {
   "cell_type": "markdown",
   "metadata": {},
   "source": [
    "# 3. Analizaremos cuales son las características no disponibles en el conjunto de prueba"
   ]
  },
  {
   "cell_type": "code",
   "execution_count": 8,
   "metadata": {},
   "outputs": [
    {
     "name": "stdout",
     "output_type": "stream",
     "text": [
      "Características no disponibles en el conjunto de prueba (data_test):\n",
      "                                              Feature Data Type\n",
      "0                                final.output.tail_ag   float64\n",
      "1                         final.output.concentrate_pb   float64\n",
      "2                        final.output.concentrate_sol   float64\n",
      "3              primary_cleaner.output.concentrate_sol   float64\n",
      "4                                final.output.tail_pb   float64\n",
      "5                       rougher.output.concentrate_pb   float64\n",
      "6                     primary_cleaner.output.tail_sol   float64\n",
      "7       rougher.calculation.sulfate_to_au_concentrate   float64\n",
      "8                         final.output.concentrate_ag   float64\n",
      "9                       rougher.output.concentrate_au   float64\n",
      "10                   secondary_cleaner.output.tail_pb   float64\n",
      "11                             rougher.output.tail_pb   float64\n",
      "12                     primary_cleaner.output.tail_pb   float64\n",
      "13                             rougher.output.tail_ag   float64\n",
      "14                      rougher.output.concentrate_ag   float64\n",
      "15                             rougher.output.tail_au   float64\n",
      "16              primary_cleaner.output.concentrate_pb   float64\n",
      "17                            rougher.output.recovery   float64\n",
      "18              primary_cleaner.output.concentrate_au   float64\n",
      "19                     primary_cleaner.output.tail_ag   float64\n",
      "20                            rougher.output.tail_sol   float64\n",
      "21                     primary_cleaner.output.tail_au   float64\n",
      "22                        final.output.concentrate_au   float64\n",
      "23                              final.output.recovery   float64\n",
      "24  rougher.calculation.floatbank10_sulfate_to_au_...   float64\n",
      "25                   secondary_cleaner.output.tail_au   float64\n",
      "26                              final.output.tail_sol   float64\n",
      "27  rougher.calculation.floatbank11_sulfate_to_au_...   float64\n",
      "28                   secondary_cleaner.output.tail_ag   float64\n",
      "29                     rougher.output.concentrate_sol   float64\n",
      "30                    rougher.calculation.au_pb_ratio   float64\n",
      "31                  secondary_cleaner.output.tail_sol   float64\n",
      "32              primary_cleaner.output.concentrate_ag   float64\n",
      "33                               final.output.tail_au   float64\n"
     ]
    }
   ],
   "source": [
    "# Identificación de características no disponibles en data_test\n",
    "missing_features = set(data_source.columns) - set(data_test.columns)\n",
    "\n",
    "# Filtrar las columnas de data_source que no están en data_test\n",
    "missing_features_info = data_source[missing_features].dtypes.reset_index()\n",
    "missing_features_info.columns = ['Feature', 'Data Type']\n",
    "\n",
    "print(\"Características no disponibles en el conjunto de prueba (data_test):\")\n",
    "print(missing_features_info)"
   ]
  },
  {
   "cell_type": "markdown",
   "metadata": {},
   "source": [
    "**OBSERVAIONES:** En la Columna Feature podemos ver claramente los parametros que hacen falta en el conjunto de prueba llamado `data_test`que son un total de 33 columnas y todas son de tipo float."
   ]
  },
  {
   "cell_type": "markdown",
   "metadata": {},
   "source": [
    "# 4. Preprocesamiento de Datos"
   ]
  },
  {
   "cell_type": "markdown",
   "metadata": {},
   "source": [
    "**data_test**"
   ]
  },
  {
   "cell_type": "code",
   "execution_count": 9,
   "metadata": {},
   "outputs": [],
   "source": [
    "# Rellenar los valores nulos del conjunto de prueba\n",
    "df_test = data_test.fillna(method = 'ffill')\n"
   ]
  },
  {
   "cell_type": "markdown",
   "metadata": {},
   "source": [
    "**data_train**"
   ]
  },
  {
   "cell_type": "code",
   "execution_count": 10,
   "metadata": {},
   "outputs": [
    {
     "data": {
      "text/plain": [
       "date                                          0\n",
       "final.output.concentrate_ag                   0\n",
       "final.output.concentrate_pb                   0\n",
       "final.output.concentrate_sol                  0\n",
       "final.output.concentrate_au                   0\n",
       "                                             ..\n",
       "secondary_cleaner.state.floatbank5_a_level    0\n",
       "secondary_cleaner.state.floatbank5_b_air      0\n",
       "secondary_cleaner.state.floatbank5_b_level    0\n",
       "secondary_cleaner.state.floatbank6_a_air      0\n",
       "secondary_cleaner.state.floatbank6_a_level    0\n",
       "Length: 87, dtype: int64"
      ]
     },
     "execution_count": 10,
     "metadata": {},
     "output_type": "execute_result"
    }
   ],
   "source": [
    "# Rellenar los valores nulos del conjunto de entrenamiento\n",
    "df_train = data_train.fillna(method = 'ffill')\n",
    "df_train.isnull().sum()"
   ]
  },
  {
   "cell_type": "markdown",
   "metadata": {},
   "source": [
    "**data_source**"
   ]
  },
  {
   "cell_type": "code",
   "execution_count": 11,
   "metadata": {},
   "outputs": [
    {
     "data": {
      "text/plain": [
       "date                                          0\n",
       "final.output.concentrate_ag                   0\n",
       "final.output.concentrate_pb                   0\n",
       "final.output.concentrate_sol                  0\n",
       "final.output.concentrate_au                   0\n",
       "                                             ..\n",
       "secondary_cleaner.state.floatbank5_a_level    0\n",
       "secondary_cleaner.state.floatbank5_b_air      0\n",
       "secondary_cleaner.state.floatbank5_b_level    0\n",
       "secondary_cleaner.state.floatbank6_a_air      0\n",
       "secondary_cleaner.state.floatbank6_a_level    0\n",
       "Length: 87, dtype: int64"
      ]
     },
     "execution_count": 11,
     "metadata": {},
     "output_type": "execute_result"
    }
   ],
   "source": [
    "# Rellenar los valores nulos del conjunto de fuente\n",
    "df_source = data_source.fillna(method = 'ffill')\n",
    "\n",
    "df_source.isnull().sum()"
   ]
  },
  {
   "cell_type": "markdown",
   "metadata": {},
   "source": [
    "**OBSERVAVIONES:** Utilizamos el metodo `ffill` para sustituir los valores nulos por los valores anteriores ya que este conjunto de datos se basa en el tiempo y los resultados son muy similares al anterior y por lo tanto optamos por utilizar el metodo `ffill` para poder usar nuestros datos en el modelo, ya que el modelo no puede trabajar con valores nulos."
   ]
  },
  {
   "cell_type": "markdown",
   "metadata": {},
   "source": [
    "# 5. Analisis de los datos"
   ]
  },
  {
   "cell_type": "markdown",
   "metadata": {},
   "source": [
    "**5.1 Observaremos cómo cambia la concentración de metales (Au, Ag, Pb) en función de la etapa de purificación.**"
   ]
  },
  {
   "cell_type": "markdown",
   "metadata": {},
   "source": [
    "  **5.1.1 Cambio de concentracion Au**"
   ]
  },
  {
   "cell_type": "code",
   "execution_count": 12,
   "metadata": {},
   "outputs": [],
   "source": [
    "# Guardar las etapas de la purificacion en variables\n",
    "primer_etapa_au = df_train['rougher.input.feed_au']\n",
    "segunda_etapa_au = df_train['rougher.output.concentrate_au']\n",
    "tercera_etapa_au = df_train['primary_cleaner.output.concentrate_au']\n",
    "ultima_etapa_au = df_train['final.output.concentrate_au']"
   ]
  },
  {
   "cell_type": "code",
   "execution_count": 13,
   "metadata": {},
   "outputs": [
    {
     "data": {
      "image/png": "[encoded data removed]",
      "text/plain": [
       "<Figure size 864x576 with 1 Axes>"
      ]
     },
     "metadata": {
      "needs_background": "light"
     },
     "output_type": "display_data"
    }
   ],
   "source": [
    "# Crear Histograma\n",
    "plt.figure(figsize=(12, 8))\n",
    "\n",
    "plt.hist(primer_etapa_au, bins=50, alpha=0.5, label='Primera Etapa')\n",
    "plt.hist(segunda_etapa_au, bins=50, alpha=0.5, label='Segunda Etapa')\n",
    "plt.hist(tercera_etapa_au, bins=50, alpha=0.5, label='Tercera Etapa')\n",
    "plt.hist(ultima_etapa_au, bins=50, alpha=0.5, label='Última Etapa')\n",
    "\n",
    "# Agregar el titulo y las etiquetas de los ejes\n",
    "plt.title('Cambio de concentracion del Oro en cada etapa')\n",
    "plt.xlabel('Concentracion del Oro')\n",
    "plt.ylabel('Frecuencia')\n",
    "\n",
    "# Mostrar leyenda\n",
    "plt.legend()\n",
    "\n",
    "# Mostrar el histograma\n",
    "plt.show()"
   ]
  },
  {
   "cell_type": "markdown",
   "metadata": {},
   "source": [
    "**5.1.2 Cambio de concentracion Ag**"
   ]
  },
  {
   "cell_type": "code",
   "execution_count": 14,
   "metadata": {},
   "outputs": [],
   "source": [
    "# Guardar las etapas de la purificacion en variables\n",
    "primer_etapa_ag = df_train['rougher.input.feed_ag']\n",
    "segunda_etapa_ag = df_train['rougher.output.concentrate_ag']\n",
    "tercera_etapa_ag = df_train['primary_cleaner.output.concentrate_ag']\n",
    "ultima_etapa_ag = df_train['final.output.concentrate_ag']"
   ]
  },
  {
   "cell_type": "code",
   "execution_count": 15,
   "metadata": {},
   "outputs": [
    {
     "data": {
      "image/png": "[encoded data removed]",
      "text/plain": [
       "<Figure size 1440x576 with 1 Axes>"
      ]
     },
     "metadata": {
      "needs_background": "light"
     },
     "output_type": "display_data"
    }
   ],
   "source": [
    "# Crear Histograma\n",
    "plt.figure(figsize = (20,8))\n",
    "\n",
    "plt.hist(primer_etapa_ag, bins = 50, alpha = 0.5, label = 'Primera Etapa')\n",
    "plt.hist(segunda_etapa_ag, bins = 50, alpha = 0.5, label = 'Segunda Etapa')\n",
    "plt.hist(tercera_etapa_ag, bins = 50, alpha = 0.5, label = 'Tercera Etapa')\n",
    "plt.hist(ultima_etapa_ag, bins = 50, alpha = 0.5, label = 'Ultima Etapa')\n",
    "\n",
    "#Agregar el titulo y las etiquetas a los ejes\n",
    "plt.title('Cambio de Concentracion de la plata en cada etapa')\n",
    "plt.xlabel('Concentracion de la plata')\n",
    "plt.ylabel('Frecuencia')\n",
    "\n",
    "#Mostrar la leyenda\n",
    "plt.legend()\n",
    "\n",
    "#Mostrar el Histograma\n",
    "plt.show()"
   ]
  },
  {
   "cell_type": "markdown",
   "metadata": {},
   "source": [
    "**5.1.3 Cambio de concentracion Pb**"
   ]
  },
  {
   "cell_type": "code",
   "execution_count": 16,
   "metadata": {},
   "outputs": [],
   "source": [
    "# Guardar las etapas de la purificacion en variables\n",
    "primer_etapa_pb = df_train['rougher.input.feed_pb']\n",
    "segunda_etapa_pb = df_train['rougher.output.concentrate_pb']\n",
    "tercera_etapa_pb = df_train['primary_cleaner.output.concentrate_pb']\n",
    "ultima_etapa_pb = df_train['final.output.concentrate_pb']"
   ]
  },
  {
   "cell_type": "code",
   "execution_count": 17,
   "metadata": {},
   "outputs": [
    {
     "data": {
      "image/png": "[encoded data removed]",
      "text/plain": [
       "<Figure size 864x576 with 1 Axes>"
      ]
     },
     "metadata": {
      "needs_background": "light"
     },
     "output_type": "display_data"
    }
   ],
   "source": [
    "# Crear Histograma\n",
    "plt.figure(figsize = (12,8))\n",
    "\n",
    "plt.hist(primer_etapa_pb, bins = 50, alpha = 0.5 , label = 'Primera Etapa')\n",
    "plt.hist(segunda_etapa_pb, bins = 50, alpha = 0.5, label = 'Segunda Etapa')\n",
    "plt.hist(tercera_etapa_pb, bins = 50, alpha = 0.5, label = 'Tercera Etapa')\n",
    "plt.hist(ultima_etapa_pb, bins = 50, alpha = 0.5, label = 'Ultima Etapa')\n",
    "\n",
    "#Agregar el Titulo y las etiquetas a los ejes\n",
    "plt.title('Cambio de Concentracion del Plomo en cada Etapa')\n",
    "plt.xlabel('Concentracion del Plomo')\n",
    "plt.ylabel('Frecuencia')\n",
    "\n",
    "#Mostrar la leyenda\n",
    "plt.legend()\n",
    "\n",
    "#Mostrar el Grafico\n",
    "plt.show()"
   ]
  },
  {
   "cell_type": "markdown",
   "metadata": {},
   "source": [
    "**OBSERVACIONES:** Podemos ver claramente como el proceso de purificacion en cada etapa en el mineral del oro beneficia de gran manera la concentracion de este mineral, podemos ver claramente como la concentracion aumenta hasta llegar aproximadamente al 50. En el caso de la plata podemos ver que no mejora demasiado la concentracion de la plata, de hecho podemos ver que la perjudica ya que en su ulitma etapa que es representado por le histograma rojo podemos ver que es la etapa con la minima cantidad de concentracion durante todo el procceso y que llega a alcanzar un maximo de aproximadamente 19 de concentracion durante la segunda etapa. Por ultimo en el caso del plomo podemos ver que la concentracion del mineral si aumenta a travez de las etapas aunque pormode ver que en la ultimas 2 etapas no aumenta la concentracion pero si aumenta de manera significativa la cantidad de minerales con esa alta concentracion alcanzada en la tercera etapa y podemos ver que en la tercera etapa logra alcanzar su maximo de concentracion de un aproximado de 15."
   ]
  },
  {
   "cell_type": "markdown",
   "metadata": {},
   "source": [
    "# 6. Compararemos las distribuciones del tamaño de las partículas de la alimentación en el conjunto de entrenamiento y en el conjunto de prueba."
   ]
  },
  {
   "cell_type": "code",
   "execution_count": 18,
   "metadata": {},
   "outputs": [],
   "source": [
    "# Guardar las medidas de las particulas de cada conjunto en variables diferentes\n",
    "train_part_size = df_train['rougher.input.feed_size']\n",
    "test_part_size = df_test['rougher.input.feed_size']"
   ]
  },
  {
   "cell_type": "code",
   "execution_count": 19,
   "metadata": {},
   "outputs": [
    {
     "data": {
      "image/png": "[encoded data removed]",
      "text/plain": [
       "<Figure size 864x576 with 1 Axes>"
      ]
     },
     "metadata": {
      "needs_background": "light"
     },
     "output_type": "display_data"
    }
   ],
   "source": [
    "# Crear Histograma\n",
    "plt.figure(figsize = (12,8))\n",
    "\n",
    "plt.hist(train_part_size, bins = 50, alpha = 0.5, label = 'Tamaño de Particulas df_train')\n",
    "plt.hist(test_part_size, bins = 50, alpha = 0.5, label = 'Tamaño de Particulas df_test')\n",
    "\n",
    "# Agregar Titulo y etiquetas a los ejes\n",
    "plt.title('Comparacion de Tamaño de Particulas df_train vs df_test')\n",
    "plt.xlabel('Tamaño de la Particula')\n",
    "plt.ylabel('Frecuencia')\n",
    "\n",
    "# Mostrar Leyenda\n",
    "plt.legend()\n",
    "\n",
    "# Mostrar grafico\n",
    "plt.show()"
   ]
  },
  {
   "cell_type": "markdown",
   "metadata": {},
   "source": [
    "**OBSERVACIONES:** Las distribuciones del tamaño de las particulas de la alimentación en el conjunto de entrenamiento y en el conjunto de prueba son muy similares Gracias que las distribuciones no varían significativamente, la evaluación del modelo será correcta. Claro que las proporciones en la grafica se ven diferentes, podemos ver como el Histograma azul que representa las paticulas en el conjunto de entrenamiento absorve al histograma que contiene a las particulas del conjunto de prueba y esto es normal ya que es obvio que el conjunto de prueba tenga mucha mas frecuencia ya que tiene muchos mas datos que el conjunto de prueba, pero aun asi podemos ver que ambos claramente tienen una media similar y su distribucion es muy similar por lo tanto no varian significativamente y podemos proseguir a crear nuestro modelo."
   ]
  },
  {
   "cell_type": "markdown",
   "metadata": {},
   "source": [
    "# 7. Consideraremos las concentraciones totales de todas las sustancias en las diferentes etapas: materia prima, concentrado rougher y concentrado final."
   ]
  },
  {
   "cell_type": "code",
   "execution_count": 20,
   "metadata": {},
   "outputs": [],
   "source": [
    "# Guardar las concentraciones totales en cada etapa en variables\n",
    "etapa_1 = df_train[['rougher.input.feed_au', 'rougher.input.feed_ag', 'rougher.input.feed_pb']]\n",
    "etapa_2 = df_train[['rougher.output.concentrate_au', 'rougher.output.concentrate_ag', 'rougher.output.concentrate_pb']]\n",
    "etapa_3 = df_train[['final.output.concentrate_au', 'final.output.concentrate_ag', 'final.output.concentrate_pb']]"
   ]
  },
  {
   "cell_type": "code",
   "execution_count": 21,
   "metadata": {},
   "outputs": [],
   "source": [
    "# Calcular las concentraciones totales en cada etapa\n",
    "etapa_1_total = etapa_1.sum(axis=1)\n",
    "etapa_2_total = etapa_2.sum(axis=1)\n",
    "etapa_3_total = etapa_3.sum(axis=1)"
   ]
  },
  {
   "cell_type": "code",
   "execution_count": 22,
   "metadata": {},
   "outputs": [
    {
     "data": {
      "image/png": "[encoded data removed]",
      "text/plain": [
       "<Figure size 864x576 with 1 Axes>"
      ]
     },
     "metadata": {
      "needs_background": "light"
     },
     "output_type": "display_data"
    }
   ],
   "source": [
    "# Crear Histograma\n",
    "plt.figure(figsize = (12,8))\n",
    "\n",
    "plt.hist(etapa_1_total, bins = 50, alpha = 0.5, label = 'Concentracion Total Materia Prima')\n",
    "plt.hist(etapa_2_total, bins = 50, alpha = 0.5, label = 'Concentracion Total Rougher')\n",
    "plt.hist(etapa_3_total, bins = 50, alpha = 0.5, label = 'Concentracion Total Final')\n",
    "\n",
    "#Agregar el titulo y etiquetas a los ejes\n",
    "plt.title('Concentraciones totales de todas las sustancias en las diferentes etapas')\n",
    "plt.xlabel('Concentracion')\n",
    "plt.ylabel('Frecuencia')\n",
    "# Mostrar Leyenda\n",
    "plt.legend()\n",
    "\n",
    "#Mostrar Grafico\n",
    "plt.show()"
   ]
  },
  {
   "cell_type": "markdown",
   "metadata": {},
   "source": [
    " **OBSERVACIONES:** Nuestra grafica tiene mucho sentido, podemos ver claramente como aumente la concentracion de los metales a medida que avanzemos en las etapas de la purificacion de los minerales. Tenemos algunos valores anormales en una concentracion de 0, pudo haber sido causado por un mal registro de las concentraciones por lo cual eliminaremos las concentraciones que esten por debajo de 1 para dejar de tener estos valores anormales en nuestro histograma"
   ]
  },
  {
   "cell_type": "code",
   "execution_count": 23,
   "metadata": {},
   "outputs": [],
   "source": [
    "# Elimnamos los valores menores que 1 para dejar de tener concentraciones en 0\n",
    "etapa_1_norm = etapa_1_total[etapa_1_total >= 1.0]\n",
    "etapa_2_norm = etapa_2_total[etapa_2_total >= 1.0]\n",
    "etapa_3_norm = etapa_3_total[etapa_3_total >= 1.0]"
   ]
  },
  {
   "cell_type": "code",
   "execution_count": 24,
   "metadata": {
    "scrolled": true
   },
   "outputs": [
    {
     "data": {
      "image/png": "[encoded data removed]",
      "text/plain": [
       "<Figure size 864x576 with 1 Axes>"
      ]
     },
     "metadata": {
      "needs_background": "light"
     },
     "output_type": "display_data"
    }
   ],
   "source": [
    "# Crear Histograma\n",
    "plt.figure(figsize = (12,8))\n",
    "\n",
    "plt.hist(etapa_1_norm, bins = 50, alpha = 0.5, label = 'Concentracion Total Materia Prima')\n",
    "plt.hist(etapa_2_norm, bins = 50, alpha = 0.5, label = 'Concentracion Total Rougher')\n",
    "plt.hist(etapa_3_norm, bins = 50, alpha = 0.5, label = 'Concentracion Total Final')\n",
    "\n",
    "#Agregar el titulo y etiquetas a los ejes\n",
    "plt.title('Concentraciones totales de todas las sustancias en las diferentes etapas')\n",
    "plt.xlabel('Concentracion')\n",
    "plt.ylabel('Frecuecia')\n",
    "# Mostrar Leyenda\n",
    "plt.legend()\n",
    "\n",
    "#Mostrar Grafico\n",
    "plt.show()"
   ]
  },
  {
   "cell_type": "markdown",
   "metadata": {},
   "source": [
    "# 8. Construye el modelo"
   ]
  },
  {
   "cell_type": "code",
   "execution_count": 25,
   "metadata": {},
   "outputs": [],
   "source": [
    "# Definimos features y target\n",
    "features = df_test.columns.values\n",
    "targets = ['rougher.output.recovery', 'final.output.recovery']"
   ]
  },
  {
   "cell_type": "code",
   "execution_count": 26,
   "metadata": {},
   "outputs": [],
   "source": [
    "# Establecemos nuestras variables con el conjunto de entrenamiento\n",
    "X_train = df_train[features].reset_index(drop = True)\n",
    "y_train = df_train[targets].reset_index(drop = True)\n",
    "\n",
    "y_train.columns = [0,1]"
   ]
  },
  {
   "cell_type": "code",
   "execution_count": 27,
   "metadata": {},
   "outputs": [],
   "source": [
    "# Eliminamos la columna date ya que no es relevante y esta en tipo date\n",
    "X_train = X_train.drop(['date'], axis = 1)"
   ]
  },
  {
   "cell_type": "code",
   "execution_count": 28,
   "metadata": {},
   "outputs": [],
   "source": [
    "# Creamos nuestra funcion para calcular el valor final de sMAPE.\n",
    "def compute_smape(y, y_pred):\n",
    "    n = len(y)\n",
    "    real = abs(y)\n",
    "    pred = abs(y_pred)\n",
    "    diff = abs(y - y_pred)\n",
    "    smape =  (1/n)*np.sum(diff /((real + pred)/2))*100\n",
    "    return smape\n",
    "\n",
    "def smape_ponderado(y, y_pred):\n",
    "    \n",
    "    y_rougher = y.iloc[:,0]\n",
    "    y_pred_rougher = y_pred[:,0]\n",
    "    \n",
    "    y_final = y.iloc[:,1]\n",
    "    y_pred_final = y_pred[:,1]\n",
    "    \n",
    "    smape_rougher = compute_smape(y_rougher, y_pred_rougher)\n",
    "    smape_final = compute_smape(y_final, y_pred_final)\n",
    "    \n",
    "    return (0.25*smape_rougher + 0.75*smape_final)"
   ]
  },
  {
   "cell_type": "code",
   "execution_count": 29,
   "metadata": {},
   "outputs": [],
   "source": [
    "smape_scorer = make_scorer(smape_ponderado, greater_is_better=False)"
   ]
  },
  {
   "cell_type": "markdown",
   "metadata": {},
   "source": [
    "**8.1 Modelo de Regresion Lineal**"
   ]
  },
  {
   "cell_type": "code",
   "execution_count": 30,
   "metadata": {},
   "outputs": [
    {
     "data": {
      "text/plain": [
       "LinearRegression()"
      ]
     },
     "execution_count": 30,
     "metadata": {},
     "output_type": "execute_result"
    }
   ],
   "source": [
    "# Creamos nuestro modelo\n",
    "lr_model_v2 = LinearRegression()\n",
    "lr_model_v2.fit(X_train, y_train)"
   ]
  },
  {
   "cell_type": "code",
   "execution_count": 31,
   "metadata": {},
   "outputs": [],
   "source": [
    "# Nombramos a nuestro modelo y utilizamos 5 validaciones cruzadas\n",
    "lr_model = LinearRegression()\n",
    "lr_scores = cross_val_score(lr_model, X_train, y_train, scoring = smape_scorer, cv = 5)"
   ]
  },
  {
   "cell_type": "code",
   "execution_count": 32,
   "metadata": {},
   "outputs": [
    {
     "name": "stdout",
     "output_type": "stream",
     "text": [
      "Puntajes sMAPE para cada iteración: [-17.86800384 -13.05000993 -15.84610413 -20.683037   -17.39571145]\n",
      "Modelo de Regresión Lineal | sMAPE = -16.968573\n"
     ]
    }
   ],
   "source": [
    "# Obtenemos nuestro valor promedio de sMAPE\n",
    "lr_final_score = lr_scores.mean()\n",
    "\n",
    "print('Puntajes sMAPE para cada iteración:', lr_scores)\n",
    "print('Modelo de Regresión Lineal | sMAPE = {:.6f}'.format(lr_final_score))"
   ]
  },
  {
   "cell_type": "markdown",
   "metadata": {},
   "source": [
    "**OBSERVACIONES:** Al crear nuestra funcion que nos calcule nuestro sMAPE y al utilizar la validacion cruzada con un valor de 5 en un modelo de regresion lineal, podemos obtener que nuestro valor promedio de sMAPE es de aproximadamente  un `16.96 porciento`"
   ]
  },
  {
   "cell_type": "markdown",
   "metadata": {},
   "source": [
    "**8.2 Modelo de Arbol**"
   ]
  },
  {
   "cell_type": "code",
   "execution_count": 33,
   "metadata": {},
   "outputs": [],
   "source": [
    "# Nombramos a nuestro modelo y utilizamos 5 validaciones cruzadas\n",
    "tree_model = DecisionTreeRegressor(random_state=123)\n",
    "tree_model.fit(X_train, y_train)\n",
    "tr_scores = cross_val_score(tree_model, X_train, y_train, scoring = smape_scorer, cv = 5)"
   ]
  },
  {
   "cell_type": "code",
   "execution_count": 34,
   "metadata": {},
   "outputs": [
    {
     "name": "stdout",
     "output_type": "stream",
     "text": [
      "Puntajes sMAPE para cada iteración: [-26.82779347 -32.09465281 -19.74102845 -29.0278705  -25.59163547]\n",
      "Modelo de Arbol de Regresion | sMAPE = -26.656596\n"
     ]
    }
   ],
   "source": [
    "# Obtenemos nuestro valor promedio de sMAPE\n",
    "tr_final_score = tr_scores.mean()\n",
    "\n",
    "print('Puntajes sMAPE para cada iteración:', tr_scores)\n",
    "print('Modelo de Arbol de Regresion | sMAPE = {:.6f}'.format(tr_final_score))"
   ]
  },
  {
   "cell_type": "markdown",
   "metadata": {},
   "source": [
    "**OBSERVACIONES:** Al crear nuestra funcion que nos calcule nuestro sMAPE y al utilizar la validacion cruzada con un valor de 5 en un modelo de Arbol de Regresion, podemos obtener que nuestro valor promedio de sMAPE es de aproximadamente  un `-26.65 porciento` siendo el mejor hasta el momento."
   ]
  },
  {
   "cell_type": "markdown",
   "metadata": {},
   "source": [
    "**8.1.3 Modelo de Bosque**"
   ]
  },
  {
   "cell_type": "code",
   "execution_count": 35,
   "metadata": {},
   "outputs": [],
   "source": [
    "random_forest_model = RandomForestRegressor(random_state=12345,n_estimators=100, max_depth=8)\n",
    "random_forest_model.fit(X_train, y_train)\n",
    "rf_scores = cross_val_score(random_forest_model, X_train, y_train, scoring = smape_scorer, cv = 5)"
   ]
  },
  {
   "cell_type": "code",
   "execution_count": 36,
   "metadata": {},
   "outputs": [
    {
     "name": "stdout",
     "output_type": "stream",
     "text": [
      "Puntajes sMAPE para cada iteración: [-13.03099049 -13.11199948 -14.61692718 -20.10652725 -14.62684049]\n",
      "Modelo de Arbol de Regresion | sMAPE = -15.098657\n"
     ]
    }
   ],
   "source": [
    "# Obtenemos nuestro valor promedio de sMAPE\n",
    "rf_final_score = rf_scores.mean()\n",
    "\n",
    "print('Puntajes sMAPE para cada iteración:', rf_scores)\n",
    "print('Modelo de Arbol de Regresion | sMAPE = {:.6f}'.format(rf_final_score))"
   ]
  },
  {
   "cell_type": "markdown",
   "metadata": {},
   "source": [
    "**OBSERVACIONES:** Al crear nuestra funcion que nos calcule nuestro sMAPE y al utilizar la validacion cruzada con un valor de 5 en un modelo de Bosque de Regresion, podemos obtener que nuestro valor promedio de sMAPE es de aproximadamente  un `-15.09 porciento` siendo el peor de todos."
   ]
  },
  {
   "cell_type": "markdown",
   "metadata": {},
   "source": [
    "# 9. Conclusion\n",
    "Al realizar este proyecto descubrimos la importancia de emplear la tecnica de la validacion cruzada y como nos ayudo a obtener un mejor promedio de nuestro sMAPE o Error Porcentual Absoluto Medio Simétrico. De este proyecto me gustaria destacar cuatro puntos.\n",
    "\n",
    "1. El proceso de purificacion ayuda en gran manera al mineral del Oro en su concentracion.\n",
    "2. De forma general en todas las sustancias el proceso de purificacion ayuda a mejorar la concentracion de los minerales.\n",
    "3. La validacion cruzada nos ayuda de gran manera a poder obtener un Error Porcentual Absoluto Medio Simétrico mas certero.\n",
    "4. Nuestro modelo con mejor valor de sMAPE es un arbol de decisión con un `-26.65 porciento`."
   ]
  }
 ],
 "metadata": {
  "kernelspec": {
   "display_name": "Python 3 (ipykernel)",
   "language": "python",
   "name": "python3"
  },
  "language_info": {
   "codemirror_mode": {
    "name": "ipython",
    "version": 3
   },
   "file_extension": ".py",
   "mimetype": "text/x-python",
   "name": "python",
   "nbconvert_exporter": "python",
   "pygments_lexer": "ipython3",
   "version": "3.9.5"
  },
  "toc": {
   "base_numbering": 1,
   "nav_menu": {},
   "number_sections": true,
   "sideBar": true,
   "skip_h1_title": true,
   "title_cell": "Table of Contents",
   "title_sidebar": "Contents",
   "toc_cell": false,
   "toc_position": {},
   "toc_section_display": true,
   "toc_window_display": false
  }
 },
 "nbformat": 4,
 "nbformat_minor": 2
}
