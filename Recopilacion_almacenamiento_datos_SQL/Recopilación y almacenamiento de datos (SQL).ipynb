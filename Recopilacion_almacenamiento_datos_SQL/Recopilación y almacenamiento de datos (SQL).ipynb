{
 "cells": [
  {
   "cell_type": "markdown",
   "metadata": {},
   "source": [
    "# Proyecto 6 Analizar viajes de taxis relacionados con el clima y destino."
   ]
  },
  {
   "cell_type": "markdown",
   "metadata": {},
   "source": [
    "## Introducción\n",
    "Analizaremos los conjuntos de datos `/datasets/project_sql_result_01.csv`, `/datasets/project_sql_result_04.csv` y `/datasets/project_sql_result_07.csv`  que son el resultado de nuestras consultas anteriores en sql del sitio web para poder extraer información valiosa y ayudar en la toma  de decisiones con nuestros hallazgos. Llevaremos a cabo diferentes etapas.\n",
    "\n",
    "### Etapas\n",
    " 1. Importaremos las bibliotecas que necesitemos y los conjuntos de datos.\n",
    " 1. Abriremos los conjuntos de datos y estudiaremos la información en general.\n",
    " 2. Prepararemos los datos al verificar que contienen los tipos de datos correctos.\n",
    " 3. Crearemos graficos.\n",
    "   * 4.1 Grafico empresas de taxis y número de viajes.\n",
    "   * 4.2 Grafico de los 10 barrios principales por número de finalizaciones.    \n",
    " 4. Probaremos Hipotesis.\n",
    " 5. Escribiremos una conlusión General."
   ]
  },
  {
   "cell_type": "markdown",
   "metadata": {},
   "source": [
    "# Etapa 1 Importar las bibliotecas y los conjuntos de datos"
   ]
  },
  {
   "cell_type": "code",
   "execution_count": 1,
   "metadata": {},
   "outputs": [],
   "source": [
    "#importar librerias\n",
    "import pandas as pd\n",
    "import matplotlib.pyplot as plt\n",
    "import numpy as np\n",
    "from scipy.stats import ttest_ind\n",
    "import seaborn as sns"
   ]
  },
  {
   "cell_type": "markdown",
   "metadata": {},
   "source": [
    "# Etapa 2 y 3 abriremos los conjuntos y los alistaremos para el analisis"
   ]
  },
  {
   "cell_type": "code",
   "execution_count": 2,
   "metadata": {},
   "outputs": [],
   "source": [
    "# leer los conjuntos y almacenarlos\n",
    "company = pd.read_csv('/datasets/project_sql_result_01.csv')\n",
    "drop_off = pd.read_csv('/datasets/project_sql_result_04.csv')\n",
    "loop_airport = pd.read_csv('/datasets/project_sql_result_07.csv')"
   ]
  },
  {
   "cell_type": "code",
   "execution_count": 3,
   "metadata": {},
   "outputs": [
    {
     "name": "stdout",
     "output_type": "stream",
     "text": [
      "<class 'pandas.core.frame.DataFrame'>\n",
      "RangeIndex: 64 entries, 0 to 63\n",
      "Data columns (total 2 columns):\n",
      " #   Column        Non-Null Count  Dtype \n",
      "---  ------        --------------  ----- \n",
      " 0   company_name  64 non-null     object\n",
      " 1   trips_amount  64 non-null     int64 \n",
      "dtypes: int64(1), object(1)\n",
      "memory usage: 1.1+ KB\n"
     ]
    },
    {
     "data": {
      "text/html": [
       "<div>\n",
       "<style scoped>\n",
       "    .dataframe tbody tr th:only-of-type {\n",
       "        vertical-align: middle;\n",
       "    }\n",
       "\n",
       "    .dataframe tbody tr th {\n",
       "        vertical-align: top;\n",
       "    }\n",
       "\n",
       "    .dataframe thead th {\n",
       "        text-align: right;\n",
       "    }\n",
       "</style>\n",
       "<table border=\"1\" class=\"dataframe\">\n",
       "  <thead>\n",
       "    <tr style=\"text-align: right;\">\n",
       "      <th></th>\n",
       "      <th>company_name</th>\n",
       "      <th>trips_amount</th>\n",
       "    </tr>\n",
       "  </thead>\n",
       "  <tbody>\n",
       "    <tr>\n",
       "      <th>0</th>\n",
       "      <td>Flash Cab</td>\n",
       "      <td>19558</td>\n",
       "    </tr>\n",
       "    <tr>\n",
       "      <th>1</th>\n",
       "      <td>Taxi Affiliation Services</td>\n",
       "      <td>11422</td>\n",
       "    </tr>\n",
       "    <tr>\n",
       "      <th>2</th>\n",
       "      <td>Medallion Leasing</td>\n",
       "      <td>10367</td>\n",
       "    </tr>\n",
       "    <tr>\n",
       "      <th>3</th>\n",
       "      <td>Yellow Cab</td>\n",
       "      <td>9888</td>\n",
       "    </tr>\n",
       "    <tr>\n",
       "      <th>4</th>\n",
       "      <td>Taxi Affiliation Service Yellow</td>\n",
       "      <td>9299</td>\n",
       "    </tr>\n",
       "  </tbody>\n",
       "</table>\n",
       "</div>"
      ],
      "text/plain": [
       "                      company_name  trips_amount\n",
       "0                        Flash Cab         19558\n",
       "1        Taxi Affiliation Services         11422\n",
       "2                Medallion Leasing         10367\n",
       "3                       Yellow Cab          9888\n",
       "4  Taxi Affiliation Service Yellow          9299"
      ]
     },
     "metadata": {},
     "output_type": "display_data"
    },
    {
     "name": "stdout",
     "output_type": "stream",
     "text": [
      "\n",
      "Numero de valores duplicados: 0\n"
     ]
    }
   ],
   "source": [
    "#Analizar el conjunto de datos company\n",
    "company.info()\n",
    "display(company.head(5))\n",
    "print('\\nNumero de valores duplicados:',company.duplicated().sum())"
   ]
  },
  {
   "cell_type": "markdown",
   "metadata": {},
   "source": [
    "El Dataframe que creamos y llamamos `company` contiene el nombre de las empresas de taxis y la cantidad de viajes que ellos han realizado en orden descendente. En primer lugar tenemos la empresa que realizo la mayor cantidad de viajes los dias 15 y 16 de Noviembre del año 2017. Por lo que la cantidad de viajes representan la suma de viajes de los dias 15 y 16 de Noviembre del año 2017."
   ]
  },
  {
   "cell_type": "code",
   "execution_count": 4,
   "metadata": {},
   "outputs": [
    {
     "name": "stdout",
     "output_type": "stream",
     "text": [
      "<class 'pandas.core.frame.DataFrame'>\n",
      "RangeIndex: 94 entries, 0 to 93\n",
      "Data columns (total 2 columns):\n",
      " #   Column                 Non-Null Count  Dtype  \n",
      "---  ------                 --------------  -----  \n",
      " 0   dropoff_location_name  94 non-null     object \n",
      " 1   average_trips          94 non-null     float64\n",
      "dtypes: float64(1), object(1)\n",
      "memory usage: 1.6+ KB\n"
     ]
    },
    {
     "data": {
      "text/html": [
       "<div>\n",
       "<style scoped>\n",
       "    .dataframe tbody tr th:only-of-type {\n",
       "        vertical-align: middle;\n",
       "    }\n",
       "\n",
       "    .dataframe tbody tr th {\n",
       "        vertical-align: top;\n",
       "    }\n",
       "\n",
       "    .dataframe thead th {\n",
       "        text-align: right;\n",
       "    }\n",
       "</style>\n",
       "<table border=\"1\" class=\"dataframe\">\n",
       "  <thead>\n",
       "    <tr style=\"text-align: right;\">\n",
       "      <th></th>\n",
       "      <th>dropoff_location_name</th>\n",
       "      <th>average_trips</th>\n",
       "    </tr>\n",
       "  </thead>\n",
       "  <tbody>\n",
       "    <tr>\n",
       "      <th>0</th>\n",
       "      <td>Loop</td>\n",
       "      <td>10727.466667</td>\n",
       "    </tr>\n",
       "    <tr>\n",
       "      <th>1</th>\n",
       "      <td>River North</td>\n",
       "      <td>9523.666667</td>\n",
       "    </tr>\n",
       "    <tr>\n",
       "      <th>2</th>\n",
       "      <td>Streeterville</td>\n",
       "      <td>6664.666667</td>\n",
       "    </tr>\n",
       "    <tr>\n",
       "      <th>3</th>\n",
       "      <td>West Loop</td>\n",
       "      <td>5163.666667</td>\n",
       "    </tr>\n",
       "    <tr>\n",
       "      <th>4</th>\n",
       "      <td>O'Hare</td>\n",
       "      <td>2546.900000</td>\n",
       "    </tr>\n",
       "    <tr>\n",
       "      <th>5</th>\n",
       "      <td>Lake View</td>\n",
       "      <td>2420.966667</td>\n",
       "    </tr>\n",
       "    <tr>\n",
       "      <th>6</th>\n",
       "      <td>Grant Park</td>\n",
       "      <td>2068.533333</td>\n",
       "    </tr>\n",
       "    <tr>\n",
       "      <th>7</th>\n",
       "      <td>Museum Campus</td>\n",
       "      <td>1510.000000</td>\n",
       "    </tr>\n",
       "    <tr>\n",
       "      <th>8</th>\n",
       "      <td>Gold Coast</td>\n",
       "      <td>1364.233333</td>\n",
       "    </tr>\n",
       "    <tr>\n",
       "      <th>9</th>\n",
       "      <td>Sheffield &amp; DePaul</td>\n",
       "      <td>1259.766667</td>\n",
       "    </tr>\n",
       "  </tbody>\n",
       "</table>\n",
       "</div>"
      ],
      "text/plain": [
       "  dropoff_location_name  average_trips\n",
       "0                  Loop   10727.466667\n",
       "1           River North    9523.666667\n",
       "2         Streeterville    6664.666667\n",
       "3             West Loop    5163.666667\n",
       "4                O'Hare    2546.900000\n",
       "5             Lake View    2420.966667\n",
       "6            Grant Park    2068.533333\n",
       "7         Museum Campus    1510.000000\n",
       "8            Gold Coast    1364.233333\n",
       "9    Sheffield & DePaul    1259.766667"
      ]
     },
     "metadata": {},
     "output_type": "display_data"
    },
    {
     "name": "stdout",
     "output_type": "stream",
     "text": [
      "\n",
      "Numero de valores duplicados: 0\n"
     ]
    }
   ],
   "source": [
    "#Analizar el conjunto de datos drop_off\n",
    "drop_off.info()\n",
    "display(drop_off.head(10))\n",
    "print('\\nNumero de valores duplicados:',drop_off.duplicated().sum())"
   ]
  },
  {
   "cell_type": "markdown",
   "metadata": {},
   "source": [
    "El Dataframe que creamos y llamamos `drop_off` contiene en la columna `dropoff_location_name` el nombre de los barrios como lugar de Destino de los taxis en el Estado de Chicago y en la columna llamada `average_trips` contiene el promedio de viajes que terminaron en cada barrio en noviembre de 2017."
   ]
  },
  {
   "cell_type": "markdown",
   "metadata": {},
   "source": [
    "# Observaciones de los conjuntos de datos para las graficas\n",
    "Los conjuntos de datos que obtuvimos a traves de sql para poder crear nuestras graficas del sitio web estan en muy buenas condiciones para poder proseguir a analizarlos y crear las graficas. podemos ver que ninguno de los conjuntos de datos tiene valores nulos ni valores duplicados."
   ]
  },
  {
   "cell_type": "markdown",
   "metadata": {},
   "source": [
    "## Ahora analizaremos el conjunto de datos para nuestras hipotesis"
   ]
  },
  {
   "cell_type": "code",
   "execution_count": 5,
   "metadata": {},
   "outputs": [
    {
     "name": "stdout",
     "output_type": "stream",
     "text": [
      "<class 'pandas.core.frame.DataFrame'>\n",
      "RangeIndex: 1068 entries, 0 to 1067\n",
      "Data columns (total 3 columns):\n",
      " #   Column              Non-Null Count  Dtype  \n",
      "---  ------              --------------  -----  \n",
      " 0   start_ts            1068 non-null   object \n",
      " 1   weather_conditions  1068 non-null   object \n",
      " 2   duration_seconds    1068 non-null   float64\n",
      "dtypes: float64(1), object(2)\n",
      "memory usage: 25.2+ KB\n"
     ]
    },
    {
     "data": {
      "text/html": [
       "<div>\n",
       "<style scoped>\n",
       "    .dataframe tbody tr th:only-of-type {\n",
       "        vertical-align: middle;\n",
       "    }\n",
       "\n",
       "    .dataframe tbody tr th {\n",
       "        vertical-align: top;\n",
       "    }\n",
       "\n",
       "    .dataframe thead th {\n",
       "        text-align: right;\n",
       "    }\n",
       "</style>\n",
       "<table border=\"1\" class=\"dataframe\">\n",
       "  <thead>\n",
       "    <tr style=\"text-align: right;\">\n",
       "      <th></th>\n",
       "      <th>start_ts</th>\n",
       "      <th>weather_conditions</th>\n",
       "      <th>duration_seconds</th>\n",
       "    </tr>\n",
       "  </thead>\n",
       "  <tbody>\n",
       "    <tr>\n",
       "      <th>0</th>\n",
       "      <td>2017-11-25 16:00:00</td>\n",
       "      <td>Good</td>\n",
       "      <td>2410.0</td>\n",
       "    </tr>\n",
       "    <tr>\n",
       "      <th>1</th>\n",
       "      <td>2017-11-25 14:00:00</td>\n",
       "      <td>Good</td>\n",
       "      <td>1920.0</td>\n",
       "    </tr>\n",
       "    <tr>\n",
       "      <th>2</th>\n",
       "      <td>2017-11-25 12:00:00</td>\n",
       "      <td>Good</td>\n",
       "      <td>1543.0</td>\n",
       "    </tr>\n",
       "    <tr>\n",
       "      <th>3</th>\n",
       "      <td>2017-11-04 10:00:00</td>\n",
       "      <td>Good</td>\n",
       "      <td>2512.0</td>\n",
       "    </tr>\n",
       "    <tr>\n",
       "      <th>4</th>\n",
       "      <td>2017-11-11 07:00:00</td>\n",
       "      <td>Good</td>\n",
       "      <td>1440.0</td>\n",
       "    </tr>\n",
       "  </tbody>\n",
       "</table>\n",
       "</div>"
      ],
      "text/plain": [
       "              start_ts weather_conditions  duration_seconds\n",
       "0  2017-11-25 16:00:00               Good            2410.0\n",
       "1  2017-11-25 14:00:00               Good            1920.0\n",
       "2  2017-11-25 12:00:00               Good            1543.0\n",
       "3  2017-11-04 10:00:00               Good            2512.0\n",
       "4  2017-11-11 07:00:00               Good            1440.0"
      ]
     },
     "metadata": {},
     "output_type": "display_data"
    },
    {
     "name": "stdout",
     "output_type": "stream",
     "text": [
      "\n",
      "Numero de valores duplicados: 197\n"
     ]
    }
   ],
   "source": [
    "#Analizar el conjunto de datos loop_airport \n",
    "loop_airport.info()\n",
    "display(loop_airport.head(5))\n",
    "print('\\nNumero de valores duplicados:',loop_airport.duplicated().sum())\n",
    "filas_duplicadas = loop_airport[loop_airport.duplicated()]\n"
   ]
  },
  {
   "cell_type": "markdown",
   "metadata": {},
   "source": [
    "# Observaciones del conjunto de datos para nuestras hipotesis"
   ]
  },
  {
   "cell_type": "markdown",
   "metadata": {},
   "source": [
    "El Dataframe que creamos y llamamos `loop_airport` contiene datos sobre viajes desde el Loop hasta el Aeropuerto Internacional O'Hare. la columna `start_ts` contiene la fecha y hora de la recogida, la columna `weather_conditions` contiene las condiciones climáticas en el momento en el que comenzó el viaje y la columna `duration_seconds` contiene la duración del viaje en segundos.\n",
    "Nuestro conjunto de datos no tiene valores nulos, tiene valores duplicados pero no hay ningun problema y podemos dejarlos en el conjunto de datos ya que es posible que existan viajes que inicien a la misma hora y que duren el mismo tiempo en segundos, puede ser que sea comun que a esas horas las personas suelan tomar el taxi para el aeropuerto por que los vuelos estan establecidos a la misma hora y el recorrido es el mismo asi que no hay problema con dejar esos valores duplicados ya que no son malos y si los quitaramos estariamos quitando informacion valiosa de nuestro conjunto de datos. si hubieramos tenido alguna columna como `trip_id` que identificara de manera unica a cada viaje y si estuvieran duplicadas las filas si existiria un problema pero como en este caso no tenemos una columna que identifique de manera unica cada viaje y como existe la posibilidad de que los viajes inicien a la misma hora y duren el mismo tiempo dejaremos estos datos que estan duplicados que como tal no son duplicados por que representan diferentes viajes que duraron lo mismo."
   ]
  },
  {
   "cell_type": "markdown",
   "metadata": {},
   "source": [
    "# Etapa 4 Creación de Graficos "
   ]
  },
  {
   "cell_type": "markdown",
   "metadata": {},
   "source": [
    "## 4.1 Grafico de las top 5 empresas de taxis con mayor cantidad de viajes"
   ]
  },
  {
   "cell_type": "code",
   "execution_count": 6,
   "metadata": {
    "scrolled": true
   },
   "outputs": [
    {
     "data": {
      "image/png": "[encoded data removed]",
      "text/plain": [
       "<Figure size 1080x432 with 1 Axes>"
      ]
     },
     "metadata": {
      "needs_background": "light"
     },
     "output_type": "display_data"
    }
   ],
   "source": [
    "top5_compañias = company.groupby('company_name')['trips_amount'].sum().nlargest(5)\n",
    "\n",
    "# Crearemos un grafico de barras\n",
    "fig, ax = plt.subplots(figsize = (15,6))\n",
    "top5_compañias.plot(kind='bar', color='gold')\n",
    "ax.set_ylabel('Numero de viajes')\n",
    "ax.set_xlabel('Nombre de compañia')\n",
    "ax.set_title('Top 5 compañias de taxis con mayor cantidad de viajes')\n",
    "plt.xticks(rotation= 0)\n",
    "plt.show()\n",
    "\n"
   ]
  },
  {
   "cell_type": "markdown",
   "metadata": {},
   "source": [
    "# Conclusion de la Grafica que representa las 5 compañias con mayor cantidad de viajes."
   ]
  },
  {
   "cell_type": "markdown",
   "metadata": {},
   "source": [
    "`Flash Cab` es la empresa de taxis con mayor cantidad de viajes y supera a sus empresas oponentes por una cantidad considerable. La empresa `Flash Cab` tiene un total de `19,558` viajes que son la suma de los viajes en el dia 15 y 16 de Noviembre del año 2017. Tomando el mismo intervalo de tiempo la siguiente empresa que le sigue con mayor cantidad de viajes es `Taxi Affiliation Services` con un total de `11,422` viajes y la siguiente empresa `Medallion Leasing` le sigue con un total de `10,367` viajes. Existe una mayor diferencia de cantidad de viajes entre la primer empresa y la segunda empresa, que la diferencia que existe entre la 2 y 3 empresa y las demas asi sucesivamente. En la grafica se nota facilmente como la primer barra tiene una altura sobresaliente en comparacion de todas las demas que a pesar que tengan diferencias, no son tan destacables como la primera barra que representa la empresa `Flash Cab`."
   ]
  },
  {
   "cell_type": "markdown",
   "metadata": {},
   "source": [
    "## 4.2 Grafico de los 10 barrios principales como destino en Chicago."
   ]
  },
  {
   "cell_type": "code",
   "execution_count": 7,
   "metadata": {},
   "outputs": [
    {
     "data": {
      "image/png": "[encoded data removed]",
      "text/plain": [
       "<Figure size 1080x432 with 1 Axes>"
      ]
     },
     "metadata": {
      "needs_background": "light"
     },
     "output_type": "display_data"
    }
   ],
   "source": [
    "top10_finalizaciones = drop_off.groupby('dropoff_location_name')['average_trips'].sum().nlargest(10)\n",
    "\n",
    "# Crearemos un grafico de barras\n",
    "fig, ax = plt.subplots(figsize = (15,6))\n",
    "top10_finalizaciones.plot(kind='bar', color='darkgreen')\n",
    "ax.set_ylabel('Numero de finalizaciones')\n",
    "ax.set_xlabel('Nombre del barrio')\n",
    "ax.set_title('Top 10 barrios principales como destino en Chicago')\n",
    "plt.xticks(rotation= 20)\n",
    "plt.show()"
   ]
  },
  {
   "cell_type": "markdown",
   "metadata": {},
   "source": [
    "# Conclusion de la grafica que los 10 barrios principales como destino en Chicago."
   ]
  },
  {
   "cell_type": "markdown",
   "metadata": {},
   "source": [
    "Esta grafica nos muestra claramente como hay barrios que son mas comunes como lugar de destino en comparacion de otros. En la grafica podemos ver que hay 4 barras que resaltan mas que las otras por que son mas comunes como lugar de destino. Los nombreremos empezando por el barrio con mayor numero de finalizaciones o como lugar de destino `Loop` con un promedio de `10727.5` viajes como lugar de destino en el mes de noviembre despues `River North` con un promedio de `9523.7`, despues `Streeterville` con un promedio de `6664.7` y la ultima barra que tambien resalta es la del barrio `West Loop` con un promedio de `5163.7`. A medida que bajamos de barrio que tienen menor cantidad de viajes podemos ver que la diferencia se vuelve mayor pero a partir del barrio `West Loop` los demas barrios no tienen una gran diferencia como el de los demas barrios y si compararamos el primer barrio `Loop` con el barrio que tiene menos `Sheffield & DePaul` veriamos que hay una diferencia significativa de promedio de `9,467` viajes como lugar de destino."
   ]
  },
  {
   "cell_type": "markdown",
   "metadata": {},
   "source": [
    "# Etapa 5 Probaremos la Hipotesis"
   ]
  },
  {
   "cell_type": "markdown",
   "metadata": {},
   "source": [
    "### Ahora probaremos la hipotesis de que la duración promedio de los viajes desde el Loop hasta el Aeropuerto Internacional O'Hare cambia los sábados lluviosos\n",
    "1. Nuestra Hipotesis Nula sera que la duracion promedio de los viajes desde el Loop hasta el Aeropuerto Internacional O'Hare no cambia los sábados lluviosos.\n",
    "2. Nuestra Hipotesis Alternativa sera que la duración promedio de los viajes desde el Loop hasta el Aeropuerto Internacional O'Hare cambia los sábados lluviosos.\n",
    "3. Para lograr esto llevaremos acabo un ttest con nuestro valor Alfa en 0.05 osea en un 5 porciento."
   ]
  },
  {
   "cell_type": "code",
   "execution_count": 8,
   "metadata": {},
   "outputs": [
    {
     "name": "stdout",
     "output_type": "stream",
     "text": [
      "Varianza de los sabados lluviosos:520294.086002483\n",
      "Varianza de los sabados no lluviosos:576382.009689509\n",
      "Las varianzas no son iguales por lo tanto estableceremos equal_var como False en nuestro ttest\n",
      "\n"
     ]
    },
    {
     "data": {
      "text/plain": [
       "'p_value:'"
      ]
     },
     "metadata": {},
     "output_type": "display_data"
    },
    {
     "data": {
      "text/plain": [
       "6.738994326108734e-12"
      ]
     },
     "metadata": {},
     "output_type": "display_data"
    },
    {
     "name": "stdout",
     "output_type": "stream",
     "text": [
      "Rechazamos la hipótesis nula.\n",
      "duracion promedio en segundos de un viaje un sabado lluvioso: 2427.2055555555557\n",
      "duracion promedio en segundos de un viaje un sabado  no lluvioso: 1999.6756756756756\n"
     ]
    }
   ],
   "source": [
    "lluvioso = loop_airport[loop_airport['weather_conditions'] == 'Bad']['duration_seconds']\n",
    "no_lluvioso = loop_airport[loop_airport['weather_conditions'] == 'Good']['duration_seconds']\n",
    "\n",
    "#Verificar que las varianzas sean las mismas o diferentes\n",
    "varianza_lluvioso = lluvioso.var() #Varianza de dias lluviosos\n",
    "print(f'Varianza de los sabados lluviosos:{varianza_lluvioso}')\n",
    "varianza_no_lluvioso = no_lluvioso.var() #Varianza de dias no lluviosos\n",
    "print(f'Varianza de los sabados no lluviosos:{varianza_no_lluvioso}')\n",
    "print('Las varianzas no son iguales por lo tanto estableceremos equal_var como False en nuestro ttest\\n')\n",
    "\n",
    "# Realizaremos el ttest\n",
    "alpha = 0.05\n",
    "results , pvalue = ttest_ind(lluvioso, no_lluvioso, equal_var = False)\n",
    "display('p_value:', pvalue)\n",
    "\n",
    "if pvalue < alpha:\n",
    "    print(\"Rechazamos la hipótesis nula.\")\n",
    "else:\n",
    "    print(\"No se puede rechazar la hipotesis nula\")\n",
    "    \n",
    "print('duracion promedio en segundos de un viaje un sabado lluvioso:', lluvioso.mean())\n",
    "print('duracion promedio en segundos de un viaje un sabado  no lluvioso:', no_lluvioso.mean())"
   ]
  },
  {
   "cell_type": "markdown",
   "metadata": {},
   "source": [
    "Rechazamos la hipótesis nula por que con la informacion que tenemos nuestro test estadistico nos dice que hay una diferencia significativa entre la duracion de los viajes los sabados que son lluviosos en comparación de los sabados que no llueve. Sabemos que existe una diferencia en la duración de los viajes y por lo tanto para poder darnos una mejor idea de que sabado lluvioso o no lluvioso duran mas los viajes, sacamos un promedio de la duracion de los viajes y podemos ver que los sabados lluviosos duran mucho mas los viajes y por lo tanto podemos ver que el clima lluvioso si genera un cambio en la duracion de los viajes."
   ]
  },
  {
   "cell_type": "markdown",
   "metadata": {},
   "source": [
    "# Conclusion del proyecto\n",
    "\n",
    "Recuperar los datos del sitio web y crear slices de datos de una manera correcta desde el principio nos ahorrara demasiado tiempo. Al extraer y preparar bien los datos con anticipacion a traves de sql nos ahorro demasiado tiempo en este proyecto ya que no tuvimos que usar mucho tiempo para investigar por que habian datos duplicados o valores nulos y fue mas rapido y eficiente para nosotros la creacion de graficas y la prueba de hipotesis. De este analisis me gustaria destacar 3 puntos principales.\n",
    "\n",
    "1. `Flash Cab` es la empresa de taxis con mayor cantidad de viajes y supera a sus empresas oponentes por una cantidad considerable. \n",
    "\n",
    "2. `Loop` es el barrio mas comun como destino en Chicago con un promedio de `10,727.5` viajes como lugar de destino durante el mes de Noviembre.\n",
    "\n",
    "3. La duración de los viajes los sabados lluviosos duran mucho mas que los viajes de los sabados no lluvisos por lo que concluimos el clima lluvioso si genera un cambio en la duracion de los viajes."
   ]
  }
 ],
 "metadata": {
  "kernelspec": {
   "display_name": "Python 3 (ipykernel)",
   "language": "python",
   "name": "python3"
  },
  "language_info": {
   "codemirror_mode": {
    "name": "ipython",
    "version": 3
   },
   "file_extension": ".py",
   "mimetype": "text/x-python",
   "name": "python",
   "nbconvert_exporter": "python",
   "pygments_lexer": "ipython3",
   "version": "3.9.5"
  },
  "toc": {
   "base_numbering": 1,
   "nav_menu": {},
   "number_sections": true,
   "sideBar": true,
   "skip_h1_title": true,
   "title_cell": "Table of Contents",
   "title_sidebar": "Contents",
   "toc_cell": false,
   "toc_position": {},
   "toc_section_display": true,
   "toc_window_display": false
  }
 },
 "nbformat": 4,
 "nbformat_minor": 2
}
